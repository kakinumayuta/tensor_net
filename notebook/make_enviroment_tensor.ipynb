{
 "cells": [
  {
   "cell_type": "code",
   "execution_count": 32,
   "id": "84800868",
   "metadata": {},
   "outputs": [
    {
     "name": "stderr",
     "output_type": "stream",
     "text": [
      "\u001b[32m\u001b[1m  Activating\u001b[22m\u001b[39m project at `c:\\Users\\kakin\\home\\workspace\\tensor`\n"
     ]
    }
   ],
   "source": [
    "import Pkg\n",
    "Pkg.activate(\"../../tensor\")\n",
    "import tensor as ten\n",
    "using ITensors\n",
    "import LinearAlgebra as LA"
   ]
  },
  {
   "cell_type": "code",
   "execution_count": 33,
   "id": "77ff9c42",
   "metadata": {},
   "outputs": [
    {
     "data": {
      "text/plain": [
       "-0.1"
      ]
     },
     "metadata": {},
     "output_type": "display_data"
    }
   ],
   "source": [
    "#Index\n",
    "#大きな足\n",
    "α = Index(2, \"α\")\n",
    "ξ = Index(2, \"ξ\")\n",
    "β = Index(2, \"β\")\n",
    "η = Index(2, \"η\")\n",
    "\n",
    "#小さな足\n",
    "i = Index(2, \"i\")\n",
    "j = Index(2, \"j\")\n",
    "k = Index(2, \"k\")\n",
    "l = Index(2, \"l\")\n",
    "\n",
    "#つぶす足\n",
    "c1 = Index(2 , \"c1\")\n",
    "c2 = Index(2 , \"c2\")\n",
    "\n",
    "#定数K\n",
    "K_const=-0.1"
   ]
  },
  {
   "cell_type": "code",
   "execution_count": 34,
   "id": "dd266410",
   "metadata": {},
   "outputs": [
    {
     "data": {
      "text/plain": [
       "ITensor ord=3 (dim=2|id=666|\"β\") (dim=2|id=797|\"η\") (dim=2|id=149|\"k\")\n",
       "NDTensors.Dense{Float64, Vector{Float64}}"
      ]
     },
     "metadata": {},
     "output_type": "display_data"
    }
   ],
   "source": [
    "#ここがおかしい\n",
    "#4脚テンソルの定義\n",
    "W = ten.four_leg_tensor_def(i, j, k, l,K_const)\n",
    "#2脚テンソルの定義\n",
    "C = ten.two_leg_tensor_def(α, β, c1, c2, K_const)\n",
    "#3脚テンソルの定義\n",
    "PR = ten.three_leg_tensor_def(α, ξ, l, c1, K_const)\n",
    "#3脚テンソルの定義\n",
    "PC = ten.three_leg_tensor_def(β, η , k, c1, K_const)"
   ]
  },
  {
   "cell_type": "code",
   "execution_count": 35,
   "id": "187f05fd",
   "metadata": {},
   "outputs": [
    {
     "data": {
      "text/plain": [
       "ITensor ord=2 (dim=4|id=309|\"α\") (dim=4|id=324|\"β\")\n",
       "NDTensors.Dense{Float64, Vector{Float64}}"
      ]
     },
     "metadata": {},
     "output_type": "display_data"
    }
   ],
   "source": [
    "#3脚テンソル(横)の拡大\n",
    "PR2,ξ,α,ξi=ten.Expand_PR(PR,W,α,k,ξ,i,j,l)\n",
    "#3脚テンソル(縦)の拡大\n",
    "PC2,η,β,ηj=ten.Expand_PC(PC,W,β,l,η,j,i,k)\n",
    "#角転送行列の拡大\n",
    "C2=ten.Expand_C(PR,C,PC,W,ξi,ηj,α,β)"
   ]
  },
  {
   "cell_type": "code",
   "execution_count": 36,
   "id": "fefddb1f",
   "metadata": {},
   "outputs": [
    {
     "data": {
      "text/plain": [
       "(dim=5|id=226|\"χ\")"
      ]
     },
     "metadata": {},
     "output_type": "display_data"
    }
   ],
   "source": [
    "#対角化\n",
    "D,U,Ul=ten.Diagonal_C_matrix(C2,α,β)\n",
    "χ_num=5\n",
    "χ=Index(χ_num,\"χ\")"
   ]
  },
  {
   "cell_type": "code",
   "execution_count": 37,
   "id": "b87f672a",
   "metadata": {},
   "outputs": [
    {
     "data": {
      "text/plain": [
       "ITensor ord=2 (dim=4|id=309|\"α\") (dim=4|id=876|\"Link,eigen\")'\n",
       "NDTensors.Dense{ComplexF64, Vector{ComplexF64}}"
      ]
     },
     "metadata": {},
     "output_type": "display_data"
    }
   ],
   "source": [
    "#圧縮過程\n",
    "resD,idx = ten.Restrict_Diagonal(D, χ_num,χ,χ)\n",
    "resU = ten.Restrict_EigenvecsU(U, χ_num,β,χ,idx)\n",
    "resUl = ten.Restrict_EigenvecsUl(Ul, χ_num,α,χ,idx)"
   ]
  },
  {
   "cell_type": "code",
   "execution_count": 38,
   "id": "35536457",
   "metadata": {},
   "outputs": [
    {
     "data": {
      "text/plain": [
       "(dim=4|id=157|\"θ\")"
      ]
     },
     "metadata": {},
     "output_type": "display_data"
    }
   ],
   "source": [
    "#制限されたインデックス(χ)\n",
    "ν=Index(2,\"ν\")\n",
    "μ=Index(2,\"μ\")\n",
    "σ=Index(2,\"σ\")\n",
    "\n",
    "#大きな足(α)\n",
    "λ=Index(4,\"λ\")\n",
    "γ=Index(4,\"γ\")\n",
    "ϵ=Index(4,\"ϵ\")\n",
    "θ=Index(4,\"θ\")"
   ]
  },
  {
   "cell_type": "code",
   "execution_count": 39,
   "id": "28e05957",
   "metadata": {},
   "outputs": [
    {
     "data": {
      "text/plain": [
       "ITensor ord=2 (dim=4|id=324|\"β\") (dim=4|id=876|\"Link,eigen\")\n",
       "NDTensors.Dense{ComplexF64, Vector{ComplexF64}}"
      ]
     },
     "metadata": {},
     "output_type": "display_data"
    }
   ],
   "source": [
    "resU"
   ]
  },
  {
   "cell_type": "code",
   "execution_count": 40,
   "id": "3d390f41",
   "metadata": {},
   "outputs": [
    {
     "data": {
      "text/plain": [
       "ITensor ord=2 (dim=4|id=876|\"Link,eigen\")' (dim=4|id=876|\"Link,eigen\")\n",
       "NDTensors.Diag{ComplexF64, Vector{ComplexF64}}"
      ]
     },
     "metadata": {},
     "output_type": "display_data"
    }
   ],
   "source": [
    "#固有ベクトル(右)のコピー\n",
    "resU2 = replaceinds(resU, (χ => ν, β => ξ))\n",
    "resU3 = replaceinds(resU, (χ => μ, β => ϵ))\n",
    "resU4 = replaceinds(resU, (χ => σ, β => θ))\n",
    "\n",
    "#固有ベクトル(左)のコピー\n",
    "resUl2 = replaceinds(resUl, (χ' => ν', α => λ))\n",
    "resUl3 = replaceinds(resUl, (χ' => μ', α => γ))\n",
    "resUl4 = replaceinds(resUl, (χ' => σ', α => η))\n",
    "\n",
    "#対角行列のコピー\n",
    "resD2 = replaceinds(resD, (χ =>ν , χ' =>ν' ))\n",
    "resD3 = replaceinds(resD, (χ =>μ , χ' =>μ' ))\n",
    "resD4 = replaceinds(resD, (χ =>σ , χ' =>σ' ))"
   ]
  },
  {
   "cell_type": "code",
   "execution_count": 41,
   "id": "0a4b83ee",
   "metadata": {},
   "outputs": [
    {
     "data": {
      "text/plain": [
       "ITensor ord=2 (dim=4|id=324|\"β\") (dim=4|id=876|\"Link,eigen\")\n",
       "NDTensors.Dense{ComplexF64, Vector{ComplexF64}}"
      ]
     },
     "metadata": {},
     "output_type": "display_data"
    },
    {
     "data": {
      "text/plain": [
       "ITensor ord=2 (dim=4|id=945|\"ξ\") (dim=4|id=876|\"Link,eigen\")\n",
       "NDTensors.Dense{ComplexF64, Vector{ComplexF64}}"
      ]
     },
     "metadata": {},
     "output_type": "display_data"
    },
    {
     "data": {
      "text/plain": [
       "ITensor ord=2 (dim=4|id=719|\"ϵ\") (dim=4|id=876|\"Link,eigen\")\n",
       "NDTensors.Dense{ComplexF64, Vector{ComplexF64}}"
      ]
     },
     "metadata": {},
     "output_type": "display_data"
    },
    {
     "data": {
      "text/plain": [
       "ITensor ord=2 (dim=4|id=157|\"θ\") (dim=4|id=876|\"Link,eigen\")\n",
       "NDTensors.Dense{ComplexF64, Vector{ComplexF64}}"
      ]
     },
     "metadata": {},
     "output_type": "display_data"
    }
   ],
   "source": [
    "resU|>display\n",
    "resU2|>display\n",
    "resU3|>display\n",
    "resU4|>display"
   ]
  },
  {
   "cell_type": "code",
   "execution_count": 42,
   "id": "9e72b1dd",
   "metadata": {},
   "outputs": [
    {
     "data": {
      "text/plain": [
       "ITensor ord=2 (dim=4|id=309|\"α\") (dim=4|id=876|\"Link,eigen\")'\n",
       "NDTensors.Dense{ComplexF64, Vector{ComplexF64}}"
      ]
     },
     "metadata": {},
     "output_type": "display_data"
    },
    {
     "data": {
      "text/plain": [
       "ITensor ord=2 (dim=4|id=857|\"λ\") (dim=4|id=876|\"Link,eigen\")'\n",
       "NDTensors.Dense{ComplexF64, Vector{ComplexF64}}"
      ]
     },
     "metadata": {},
     "output_type": "display_data"
    },
    {
     "data": {
      "text/plain": [
       "ITensor ord=2 (dim=4|id=690|\"γ\") (dim=4|id=876|\"Link,eigen\")'\n",
       "NDTensors.Dense{ComplexF64, Vector{ComplexF64}}"
      ]
     },
     "metadata": {},
     "output_type": "display_data"
    },
    {
     "data": {
      "text/plain": [
       "ITensor ord=2 (dim=4|id=103|\"η\") (dim=4|id=876|\"Link,eigen\")'\n",
       "NDTensors.Dense{ComplexF64, Vector{ComplexF64}}"
      ]
     },
     "metadata": {},
     "output_type": "display_data"
    }
   ],
   "source": [
    "resUl|>display\n",
    "resUl2|>display\n",
    "resUl3|>display\n",
    "resUl4|>display"
   ]
  },
  {
   "cell_type": "code",
   "execution_count": 43,
   "id": "beadcde3",
   "metadata": {},
   "outputs": [
    {
     "data": {
      "text/plain": [
       "ITensor ord=2 (dim=4|id=876|\"Link,eigen\")' (dim=4|id=876|\"Link,eigen\")\n",
       "NDTensors.Diag{ComplexF64, Vector{ComplexF64}}"
      ]
     },
     "metadata": {},
     "output_type": "display_data"
    },
    {
     "data": {
      "text/plain": [
       "ITensor ord=2 (dim=4|id=876|\"Link,eigen\")' (dim=4|id=876|\"Link,eigen\")\n",
       "NDTensors.Diag{ComplexF64, Vector{ComplexF64}}"
      ]
     },
     "metadata": {},
     "output_type": "display_data"
    },
    {
     "data": {
      "text/plain": [
       "ITensor ord=2 (dim=4|id=876|\"Link,eigen\")' (dim=4|id=876|\"Link,eigen\")\n",
       "NDTensors.Diag{ComplexF64, Vector{ComplexF64}}"
      ]
     },
     "metadata": {},
     "output_type": "display_data"
    },
    {
     "data": {
      "text/plain": [
       "ITensor ord=2 (dim=4|id=876|\"Link,eigen\")' (dim=4|id=876|\"Link,eigen\")\n",
       "NDTensors.Diag{ComplexF64, Vector{ComplexF64}}"
      ]
     },
     "metadata": {},
     "output_type": "display_data"
    }
   ],
   "source": [
    "resD|>display\n",
    "resD2|>display\n",
    "resD3|>display\n",
    "resD4|>display"
   ]
  },
  {
   "cell_type": "code",
   "execution_count": 44,
   "id": "3ff1cb1b",
   "metadata": {},
   "outputs": [
    {
     "data": {
      "text/plain": [
       "ITensor ord=3 (dim=4|id=157|\"θ\") (dim=2|id=444|\"j\") (dim=4|id=690|\"γ\")\n",
       "NDTensors.Dense{Float64, Vector{Float64}}"
      ]
     },
     "metadata": {},
     "output_type": "display_data"
    }
   ],
   "source": [
    "#3脚テンソルのコピー\n",
    "PRL = copy(PR2)\n",
    "PCD = copy(PC2)\n",
    "PCU = replaceinds(PCD, (β => ϵ, η => λ , k => i))\n",
    "PRR = replaceinds(PRL, (α => γ, ξ => θ , l => j))"
   ]
  },
  {
   "cell_type": "code",
   "execution_count": 45,
   "id": "18a4584a",
   "metadata": {},
   "outputs": [
    {
     "data": {
      "text/plain": [
       "ITensor ord=3 (dim=4|id=945|\"ξ\") (dim=2|id=744|\"l\") (dim=4|id=309|\"α\")\n",
       "NDTensors.Dense{Float64, Vector{Float64}}"
      ]
     },
     "metadata": {},
     "output_type": "display_data"
    },
    {
     "data": {
      "text/plain": [
       "ITensor ord=3 (dim=4|id=157|\"θ\") (dim=2|id=444|\"j\") (dim=4|id=690|\"γ\")\n",
       "NDTensors.Dense{Float64, Vector{Float64}}"
      ]
     },
     "metadata": {},
     "output_type": "display_data"
    },
    {
     "data": {
      "text/plain": [
       "ITensor ord=3 (dim=4|id=103|\"η\") (dim=2|id=149|\"k\") (dim=4|id=324|\"β\")\n",
       "NDTensors.Dense{Float64, Vector{Float64}}"
      ]
     },
     "metadata": {},
     "output_type": "display_data"
    },
    {
     "data": {
      "text/plain": [
       "ITensor ord=3 (dim=4|id=857|\"λ\") (dim=2|id=845|\"i\") (dim=4|id=719|\"ϵ\")\n",
       "NDTensors.Dense{Float64, Vector{Float64}}"
      ]
     },
     "metadata": {},
     "output_type": "display_data"
    }
   ],
   "source": [
    "PRL|>display\n",
    "PRR|>display\n",
    "PCD|>display\n",
    "PCU|>display"
   ]
  },
  {
   "cell_type": "code",
   "execution_count": 46,
   "id": "798d37e9",
   "metadata": {},
   "outputs": [
    {
     "data": {
      "text/plain": [
       "ITensor ord=3 (dim=4|id=876|\"Link,eigen\")' (dim=2|id=149|\"k\") (dim=4|id=876|\"Link,eigen\")\n",
       "NDTensors.Dense{ComplexF64, Vector{ComplexF64}}"
      ]
     },
     "metadata": {},
     "output_type": "display_data"
    }
   ],
   "source": [
    "#3脚テンソルの圧縮\n",
    "resPRL=resUl*PRL*resU2\n",
    "resPCU=resUl2*PCU*resU3\n",
    "resPRR=resUl3*PRR*resU4\n",
    "resPCD=resUl4*PCD*resU"
   ]
  },
  {
   "cell_type": "code",
   "execution_count": 47,
   "id": "ea21f096",
   "metadata": {},
   "outputs": [
    {
     "data": {
      "text/plain": [
       "ITensor ord=3 (dim=4|id=876|\"Link,eigen\")' (dim=2|id=744|\"l\") (dim=4|id=876|\"Link,eigen\")\n",
       "NDTensors.Dense{ComplexF64, Vector{ComplexF64}}"
      ]
     },
     "metadata": {},
     "output_type": "display_data"
    },
    {
     "data": {
      "text/plain": [
       "ITensor ord=3 (dim=4|id=876|\"Link,eigen\")' (dim=2|id=444|\"j\") (dim=4|id=876|\"Link,eigen\")\n",
       "NDTensors.Dense{ComplexF64, Vector{ComplexF64}}"
      ]
     },
     "metadata": {},
     "output_type": "display_data"
    },
    {
     "data": {
      "text/plain": [
       "ITensor ord=3 (dim=4|id=876|\"Link,eigen\")' (dim=2|id=149|\"k\") (dim=4|id=876|\"Link,eigen\")\n",
       "NDTensors.Dense{ComplexF64, Vector{ComplexF64}}"
      ]
     },
     "metadata": {},
     "output_type": "display_data"
    },
    {
     "data": {
      "text/plain": [
       "ITensor ord=3 (dim=4|id=876|\"Link,eigen\")' (dim=2|id=845|\"i\") (dim=4|id=876|\"Link,eigen\")\n",
       "NDTensors.Dense{ComplexF64, Vector{ComplexF64}}"
      ]
     },
     "metadata": {},
     "output_type": "display_data"
    }
   ],
   "source": [
    "resPRL|>display\n",
    "resPRR|>display\n",
    "resPCD|>display\n",
    "resPCU|>display"
   ]
  },
  {
   "cell_type": "code",
   "execution_count": 48,
   "id": "74233a04",
   "metadata": {},
   "outputs": [
    {
     "data": {
      "text/plain": [
       "ITensor ord=4 (dim=2|id=744|\"l\") (dim=2|id=845|\"i\") (dim=2|id=444|\"j\") (dim=2|id=149|\"k\")\n",
       "NDTensors.Dense{ComplexF64, Vector{ComplexF64}}"
      ]
     },
     "metadata": {},
     "output_type": "display_data"
    }
   ],
   "source": [
    "#環境テンソル\n",
    "G=resD*resPRL*resD2*resPCU*resD3*resPRR*resD4*resPCD"
   ]
  },
  {
   "cell_type": "code",
   "execution_count": 49,
   "id": "5f484239",
   "metadata": {},
   "outputs": [
    {
     "data": {
      "text/plain": [
       "ITensor ord=0\n",
       "NDTensors.Dense{ComplexF64, Vector{ComplexF64}}"
      ]
     },
     "metadata": {},
     "output_type": "display_data"
    }
   ],
   "source": [
    "#分配関数\n",
    "O=G*W"
   ]
  },
  {
   "cell_type": "code",
   "execution_count": 50,
   "id": "f9bc6890",
   "metadata": {},
   "outputs": [
    {
     "name": "stdout",
     "output_type": "stream",
     "text": [
      "O = ITensor ord=0\n",
      "NDTensors.Dense{ComplexF64, Vector{ComplexF64}}\n",
      " 0-dimensional\n",
      "3.882253516411422e12 + 0.0im\n"
     ]
    },
    {
     "data": {
      "text/plain": [
       "ITensor"
      ]
     },
     "metadata": {},
     "output_type": "display_data"
    }
   ],
   "source": [
    "@show O\n",
    "typeof(O)"
   ]
  },
  {
   "cell_type": "code",
   "execution_count": 51,
   "id": "84a91de5",
   "metadata": {},
   "outputs": [
    {
     "data": {
      "text/plain": [
       "3.882253516411422e12 + 0.0im"
      ]
     },
     "metadata": {},
     "output_type": "display_data"
    }
   ],
   "source": [
    "O[]"
   ]
  },
  {
   "cell_type": "code",
   "execution_count": 52,
   "id": "a0245915",
   "metadata": {},
   "outputs": [
    {
     "data": {
      "text/plain": [
       "0.060558511571946916 + 0.0im"
      ]
     },
     "metadata": {},
     "output_type": "display_data"
    }
   ],
   "source": [
    "function Self_Magnetization(G::ITensor,W::ITensor,O::Float64)\n",
    "    #自発磁化\n",
    "    a=0.0\n",
    "    for i in 0:1\n",
    "        for j in 0:1\n",
    "            for k in 0:1\n",
    "                for l in 0:1\n",
    "                    a+=1/O*G[i+1,j+1,k+1,l+1]*(2*i-1)*W[i+1,j+1,k+1,l+1]\n",
    "                end\n",
    "            end\n",
    "        end\n",
    "    end\n",
    "\n",
    "    return a\n",
    "end\n",
    "a=Self_Magnetization(G,W,real(O[]))\n"
   ]
  },
  {
   "cell_type": "code",
   "execution_count": 53,
   "id": "d70bb867",
   "metadata": {},
   "outputs": [
    {
     "data": {
      "text/plain": [
       "-5.064804949742453 + 0.0im"
      ]
     },
     "metadata": {},
     "output_type": "display_data"
    }
   ],
   "source": [
    "function Spin_Correlation(G::ITensor,W::ITensor,O::Float64)\n",
    "    #スピン相関\n",
    "    b=0.0\n",
    "    for i in 0:1\n",
    "        for j in 0:1\n",
    "            for k in 0:1\n",
    "                for l in 0:1\n",
    "                    b+=1/O*G[i+1,j+1,k+1,l+1]*(2*i-1)*(2*j-1)*W[i+1,j+1,k+1,l+1]\n",
    "                end\n",
    "            end\n",
    "        end\n",
    "    end\n",
    "\n",
    "    return b\n",
    "end\n",
    "\n",
    "b=Spin_Correlation(G,W,real(O[]))\n"
   ]
  }
 ],
 "metadata": {
  "kernelspec": {
   "display_name": "Julia 1.11.4",
   "language": "julia",
   "name": "julia-1.11"
  },
  "language_info": {
   "file_extension": ".jl",
   "mimetype": "application/julia",
   "name": "julia",
   "version": "1.11.4"
  }
 },
 "nbformat": 4,
 "nbformat_minor": 5
}
