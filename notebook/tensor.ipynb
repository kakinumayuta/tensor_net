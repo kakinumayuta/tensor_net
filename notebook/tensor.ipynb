{
 "cells": [
  {
   "cell_type": "code",
   "execution_count": 6,
   "id": "30fb3d28",
   "metadata": {},
   "outputs": [
    {
     "name": "stderr",
     "output_type": "stream",
     "text": [
      "\u001b[32m\u001b[1m  Activating\u001b[22m\u001b[39m project at `c:\\Users\\kakin\\home\\workspace\\tensor`\n"
     ]
    }
   ],
   "source": [
    "import Pkg\n",
    "Pkg.activate(\"../../tensor\")\n",
    "import tensor as ten"
   ]
  },
  {
   "cell_type": "code",
   "execution_count": 11,
   "id": "7bafedc5",
   "metadata": {},
   "outputs": [],
   "source": [
    "using ITensors"
   ]
  },
  {
   "cell_type": "code",
   "execution_count": 9,
   "id": "5e8d8c83",
   "metadata": {},
   "outputs": [
    {
     "data": {
      "text/plain": [
       "54.598150033144236"
      ]
     },
     "metadata": {},
     "output_type": "display_data"
    }
   ],
   "source": [
    "a=1\n",
    "b=1\n",
    "c=1\n",
    "d=1\n",
    "K=1.0\n",
    "ten.four_leg_tensor_cal(a::Int64, b::Int64, c::Int64, d::Int64, K::Float64)"
   ]
  },
  {
   "cell_type": "code",
   "execution_count": 13,
   "id": "7ca6e1b4",
   "metadata": {},
   "outputs": [
    {
     "data": {
      "text/plain": [
       "ITensor ord=2 (dim=2|id=629|\"i\") (dim=2|id=292|\"j\")\n",
       "NDTensors.Dense{Float64, Vector{Float64}}"
      ]
     },
     "metadata": {},
     "output_type": "display_data"
    }
   ],
   "source": [
    "M = [1.0 2.0;\n",
    "     3.0 4.0]\n",
    "\n",
    "i = Index(2,\"i\")\n",
    "j = Index(2,\"j\")\n",
    "\n",
    "A = ITensor(M,i,j)"
   ]
  },
  {
   "cell_type": "code",
   "execution_count": 14,
   "id": "79b71fa4",
   "metadata": {},
   "outputs": [
    {
     "name": "stdout",
     "output_type": "stream",
     "text": [
      "A[i=>1, j=>1] = 1.0\n",
      "A[i=>1, j=>2] = 2.0\n",
      "A[i=>2, j=>1] = 3.0\n",
      "A[i=>2, j=>2] = 4.0\n"
     ]
    }
   ],
   "source": [
    "for a in 1:2, b in 1:2\n",
    "    println(\"A[i=>$a, j=>$b] = \", A[i=>a, j=>b])\n",
    "end\n"
   ]
  },
  {
   "cell_type": "code",
   "execution_count": null,
   "id": "7c6c080c",
   "metadata": {},
   "outputs": [
    {
     "name": "stdout",
     "output_type": "stream",
     "text": [
      "[:, :, 1, 1] =\n",
      " 2983.957987041728     56.61646567203297\n",
      "   56.61646567203297  111.19630006628847\n",
      "\n",
      "[:, :, 2, 1] =\n",
      " 56.61646567203297     3.0003354626279024\n",
      "  2.0366312777774684  56.61646567203297\n",
      "\n",
      "[:, :, 1, 2] =\n",
      " 56.61646567203297     2.0366312777774684\n",
      "  3.0003354626279024  56.61646567203297\n",
      "\n",
      "[:, :, 2, 2] =\n",
      " 111.19630006628847    56.61646567203297\n",
      "  56.61646567203297  2983.957987041728"
     ]
    }
   ],
   "source": [
    "using ITensors\n",
    "\n",
    "# インデックス定義（2値）\n",
    "i = Index(2, \"i\")\n",
    "j = Index(2, \"j\")\n",
    "k = Index(2, \"k\")\n",
    "l = Index(2, \"l\")\n",
    "m = Index(2, \"m\")\n",
    "n = Index(2, \"n\")\n",
    "\n",
    "# テンソル初期化\n",
    "A = ITensor(i, j, k, l)\n",
    "B = ITensor(j, i, m, n)\n",
    "\n",
    "K_const = 1.0\n",
    "\n",
    "# 関数定義(a,b,c,dは0or1 Kは逆温度を含む定数)\n",
    "function four_leg_tensor_cal(a::Int64, b::Int64, c::Int64, d::Int64, K::Float64)\n",
    "    # 0 or 1 のビットを ±1 に変換し、隣接ペアの積を計算\n",
    "    s1 = 2a - 1\n",
    "    s2 = 2b - 1\n",
    "    s3 = 2c - 1\n",
    "    s4 = 2d - 1\n",
    "    exponent = K * (s1*s2 + s2*s3 + s3*s4 + s4*s1)\n",
    "    return exp(exponent)\n",
    "end\n",
    "\n",
    "# 代入ループ（0/1ビット→ITensorの1/2インデックスに対応させる）\n",
    "for a in 0:1, b in 0:1, c in 0:1, d in 0:1\n",
    "    val = four_leg_tensor_cal(a, b, c, d, K_const)\n",
    "    A[i => a+1, j => b+1, k => c+1, l => d+1] = val\n",
    "    B[j => a+1, i => b+1, m => c+1, n => d+1] = val\n",
    "end\n",
    "\n",
    "C=A*B\n",
    "\n",
    "Cmat=Array(C,[k,l,m,n])\n",
    "\n",
    "Base.print_array(stdout,Cmat)"
   ]
  }
 ],
 "metadata": {
  "kernelspec": {
   "display_name": "Julia 1.11.4",
   "language": "julia",
   "name": "julia-1.11"
  },
  "language_info": {
   "file_extension": ".jl",
   "mimetype": "application/julia",
   "name": "julia",
   "version": "1.11.4"
  }
 },
 "nbformat": 4,
 "nbformat_minor": 5
}
