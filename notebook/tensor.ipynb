{
 "cells": [
  {
   "cell_type": "code",
   "execution_count": 1,
   "id": "30fb3d28",
   "metadata": {},
   "outputs": [
    {
     "name": "stderr",
     "output_type": "stream",
     "text": [
      "\u001b[32m\u001b[1m  Activating\u001b[22m\u001b[39m project at `c:\\Users\\kakin\\home\\workspace\\tensor`\n"
     ]
    }
   ],
   "source": [
    "import Pkg\n",
    "Pkg.activate(\"../../tensor\")\n",
    "import tensor as ten"
   ]
  },
  {
   "cell_type": "code",
   "execution_count": 2,
   "id": "7c6c080c",
   "metadata": {},
   "outputs": [],
   "source": [
    "using ITensors\n",
    "\n",
    "\n",
    "#=テスト\n",
    "# インデックス定義（2値）\n",
    "i = Index(2, \"i\")\n",
    "j = Index(2, \"j\")\n",
    "k = Index(2, \"k\")\n",
    "l = Index(2, \"l\")\n",
    "m = Index(2, \"m\")\n",
    "n = Index(2, \"n\")\n",
    "\n",
    "typeof(i)|>display\n",
    "\n",
    "# テンソル初期化\n",
    "A = ITensor(i, j, k, l)\n",
    "B = ITensor(j, i, m, n)\n",
    "\n",
    "K_const = 1.0\n",
    "\n",
    "# 関数定義(a,b,c,dは0or1 Kは逆温度を含む定数)\n",
    "function four_leg_tensor_cal(a::Int64, b::Int64, c::Int64, d::Int64, K::Float64)\n",
    "    # 0 or 1 のビットを ±1 に変換し、隣接ペアの積を計算\n",
    "    s1 = 2a - 1\n",
    "    s2 = 2b - 1\n",
    "    s3 = 2c - 1\n",
    "    s4 = 2d - 1\n",
    "    exponent = K * (s1*s2 + s2*s3 + s3*s4 + s4*s1)\n",
    "    return exp(exponent)\n",
    "end\n",
    "\n",
    "# 代入ループ（0/1ビット→ITensorの1/2インデックスに対応させる）\n",
    "for a in 0:1, b in 0:1, c in 0:1, d in 0:1\n",
    "    val = four_leg_tensor_cal(a, b, c, d, K_const)\n",
    "    A[i => a+1, j => b+1, k => c+1, l => d+1] = val\n",
    "    B[j => a+1, i => b+1, m => c+1, n => d+1] = val\n",
    "end\n",
    "\n",
    "C=A*B\n",
    "\n",
    "Cmat=Array(C,[k,l,m,n])\n",
    "\n",
    "Base.print_array(stdout,Cmat)\n",
    "=#"
   ]
  },
  {
   "cell_type": "code",
   "execution_count": 3,
   "id": "95200519",
   "metadata": {},
   "outputs": [
    {
     "data": {
      "text/plain": [
       "(dim=2|id=551|\"l\")"
      ]
     },
     "metadata": {},
     "output_type": "display_data"
    }
   ],
   "source": [
    "#Index\n",
    "#大きな足\n",
    "α = Index(2, \"α\")\n",
    "ξ = Index(2, \"ξ\")\n",
    "β = Index(2, \"β\")\n",
    "η = Index(2, \"η\")\n",
    "\n",
    "#小さな足\n",
    "i = Index(2, \"i\")\n",
    "j = Index(2, \"j\")\n",
    "k = Index(2, \"k\")\n",
    "l = Index(2, \"l\")"
   ]
  },
  {
   "cell_type": "code",
   "execution_count": 4,
   "id": "3f29fd3d",
   "metadata": {},
   "outputs": [
    {
     "data": {
      "text/plain": [
       "four_leg_tensor_cal (generic function with 1 method)"
      ]
     },
     "metadata": {},
     "output_type": "display_data"
    }
   ],
   "source": [
    "# 関数定義(a,b,c,dは0or1 Kは逆温度を含む定数)\n",
    "function four_leg_tensor_cal(a::Int64, b::Int64, c::Int64, d::Int64, K::Float64)\n",
    "    # 0 or 1 のビットを ±1 に変換し、隣接ペアの積を計算\n",
    "    s1 = 2a - 1\n",
    "    s2 = 2b - 1\n",
    "    s3 = 2c - 1\n",
    "    s4 = 2d - 1\n",
    "    exponent = K * (s1*s2 + s2*s3 + s3*s4 + s4*s1)\n",
    "    return exp(exponent)\n",
    "end"
   ]
  },
  {
   "cell_type": "code",
   "execution_count": 5,
   "id": "a6af4fc8",
   "metadata": {},
   "outputs": [
    {
     "data": {
      "text/plain": [
       "ITensor ord=4 (dim=2|id=237|\"i\") (dim=2|id=367|\"j\") (dim=2|id=773|\"k\") (dim=2|id=551|\"l\")\n",
       "NDTensors.Dense{Float64, Vector{Float64}}"
      ]
     },
     "metadata": {},
     "output_type": "display_data"
    }
   ],
   "source": [
    "function four_leg_tensor_def(i::Index{Int64}, j::Index{Int64}, k::Index{Int64}, l::Index{Int64},K_const::Float64)\n",
    "    W = ITensor(i, j, k, l)\n",
    "    for a in 0:1, b in 0:1, c in 0:1, d in 0:1\n",
    "        val = four_leg_tensor_cal(a, b, c, d, K_const)\n",
    "        W[i => a+1, j => b+1, k => c+1, l => d+1] = val\n",
    "    end\n",
    "    return W\n",
    "end\n",
    "\n",
    "K_const=1.0\n",
    "\n",
    "#4脚テンソルの定義\n",
    "W = four_leg_tensor_def(i, j, k, l,K_const)"
   ]
  },
  {
   "cell_type": "code",
   "execution_count": 6,
   "id": "580fac6b",
   "metadata": {},
   "outputs": [
    {
     "data": {
      "text/plain": [
       "ITensor ord=2 (dim=2|id=843|\"α\") (dim=2|id=129|\"β\")\n",
       "NDTensors.Dense{Float64, Vector{Float64}}"
      ]
     },
     "metadata": {},
     "output_type": "display_data"
    }
   ],
   "source": [
    "#2脚テンソル\n",
    "#Indexサイズを固定端の場合⇒1、自由端の場合⇒2\n",
    "c1 = Index(2, \"c1\")\n",
    "c2 = Index(2, \"c2\")\n",
    "\n",
    "function two_leg_tensor_def(i::Index{Int64}, j::Index{Int64}, k::Index{Int64}, l::Index{Int64},K_const::Float64)\n",
    "    C = ITensor(i, j, k, l)\n",
    "    for a in 0:dim(i)-1, b in 0:dim(j)-1, c in 0:1, d in 0:1\n",
    "        val = four_leg_tensor_cal(a, b, c, d, K_const)\n",
    "        C[i => a+1, j => b+1, k => c+1, l => d+1] = val\n",
    "    end\n",
    "\n",
    "    # c1 と c2 に関して縮約\n",
    "    δ_k = delta(k)  # k に関する単位テンソル\n",
    "    δ_l = delta(l)  # l に関する単位テンソル\n",
    "\n",
    "    return C * δ_k * δ_l\n",
    "end\n",
    "\n",
    "#2脚テンソルの定義\n",
    "C = two_leg_tensor_def(α, β, c1, c2, K_const)"
   ]
  },
  {
   "cell_type": "code",
   "execution_count": null,
   "id": "cb50da83",
   "metadata": {},
   "outputs": [
    {
     "data": {
      "text/plain": [
       "ITensor ord=3 (dim=2|id=843|\"α\") (dim=2|id=85|\"ξ\") (dim=2|id=551|\"l\")\n",
       "NDTensors.Dense{Float64, Vector{Float64}}"
      ]
     },
     "metadata": {},
     "output_type": "display_data"
    }
   ],
   "source": [
    "#3脚テンソル(横)\n",
    "#固定端の場合⇒1、自由端の場合⇒2\n",
    "c1 = Index(2, \"c1\")\n",
    "\n",
    "function three_leg_tensor_def(i::Index{Int64}, j::Index{Int64}, k::Index{Int64}, l::Index{Int64},K_const::Float64)\n",
    "    P = ITensor(i, j, k, l)\n",
    "    for a in 0:dim(i)-1, b in 0:dim(j)-1, c in 0:dim(k)-1, d in 0:1\n",
    "        val = four_leg_tensor_cal(a, b, c, d, K_const)\n",
    "        P[i => a+1, j => b+1, k => c+1, l => d+1] = val\n",
    "    end\n",
    "\n",
    "    # c1 と c2 に関して縮約\n",
    "    δ_l = delta(l)  # l に関する単位テンソル\n",
    "\n",
    "    return P * δ_l\n",
    "end\n",
    "\n",
    "#3脚テンソルの定義\n",
    "PR = three_leg_tensor_def(α, ξ, l, c1, K_const)\n"
   ]
  },
  {
   "cell_type": "code",
   "execution_count": 8,
   "id": "9ec168e8",
   "metadata": {},
   "outputs": [
    {
     "data": {
      "text/plain": [
       "ITensor ord=3 (dim=2|id=129|\"β\") (dim=2|id=10|\"η\") (dim=2|id=773|\"k\")\n",
       "NDTensors.Dense{Float64, Vector{Float64}}"
      ]
     },
     "metadata": {},
     "output_type": "display_data"
    }
   ],
   "source": [
    "#3脚テンソル(縦)\n",
    "#固定端の場合⇒1、自由端の場合⇒2\n",
    "c1 = Index(2, \"c1\")\n",
    "\n",
    "#3脚テンソルの定義\n",
    "PC = three_leg_tensor_def(β, η, k, c1, K_const)"
   ]
  },
  {
   "cell_type": "code",
   "execution_count": 9,
   "id": "2283686c",
   "metadata": {},
   "outputs": [
    {
     "data": {
      "text/plain": [
       "ITensor ord=4 (dim=2|id=85|\"ξ\") (dim=2|id=10|\"η\") (dim=2|id=237|\"i\") (dim=2|id=367|\"j\")\n",
       "NDTensors.Dense{Float64, Vector{Float64}}"
      ]
     },
     "metadata": {},
     "output_type": "display_data"
    }
   ],
   "source": [
    "C2=PR*C*PC*W"
   ]
  },
  {
   "cell_type": "code",
   "execution_count": 10,
   "id": "5fe8517a",
   "metadata": {},
   "outputs": [
    {
     "data": {
      "text/plain": [
       "ITensor ord=2 (dim=4|id=88|\"α\") (dim=4|id=505|\"β\")\n",
       "NDTensors.Dense{Float64, Vector{Float64}}"
      ]
     },
     "metadata": {},
     "output_type": "display_data"
    }
   ],
   "source": [
    "ξi = combiner(ξ, i)\n",
    "ηj = combiner(η, j)\n",
    "\n",
    "C2_ext = ξi * C2 * ηj\n",
    "\n",
    "α = Index(dim(uniqueinds(ξi)[1]), \"α\")\n",
    "β = Index(dim(uniqueinds(ηj)[1]), \"β\")\n",
    "replaceinds!(C2_ext, uniqueinds(ξi)[1] => α)\n",
    "replaceinds!(C2_ext, uniqueinds(ηj)[1] => β)\n",
    "\n",
    "C2=C2_ext"
   ]
  },
  {
   "cell_type": "code",
   "execution_count": 11,
   "id": "2e8a075c",
   "metadata": {},
   "outputs": [
    {
     "data": {
      "text/plain": [
       "186076.5991744225"
      ]
     },
     "metadata": {},
     "output_type": "display_data"
    }
   ],
   "source": [
    "C2[3,1]"
   ]
  },
  {
   "cell_type": "code",
   "execution_count": 12,
   "id": "de098b65",
   "metadata": {},
   "outputs": [],
   "source": [
    "#=\n",
    "ξi=combiner(ξ,i)\n",
    "ξi|>display\n",
    "ξi_comb=uniqueinds(ξi)[1]\n",
    "α = Index(dim(ξi_comb), \"α\")\n",
    "\n",
    "ηj=combiner(η,j)\n",
    "ηj|>display\n",
    "ηj_comb=uniqueinds(ηj)[1]\n",
    "β = Index(dim(ηj_comb), \"β\")\n",
    "=#"
   ]
  },
  {
   "cell_type": "code",
   "execution_count": 13,
   "id": "689f8973",
   "metadata": {},
   "outputs": [
    {
     "data": {
      "text/plain": [
       "ITensor ord=4 (dim=4|id=117|\"ξ\") (dim=4|id=593|\"η\") (dim=2|id=237|\"i\") (dim=2|id=367|\"j\")\n",
       "NDTensors.Dense{Float64, Vector{Float64}}"
      ]
     },
     "metadata": {},
     "output_type": "display_data"
    }
   ],
   "source": [
    "#Index\n",
    "#大きな足\n",
    "ξ = Index(2^2, \"ξ\")\n",
    "η = Index(2^2, \"η\")\n",
    "\n",
    "#固定端の場合⇒1、自由端の場合⇒2\n",
    "c1 = Index(2, \"c1\")\n",
    "c2 = Index(2, \"c2\")\n",
    "\n",
    "PR = three_leg_tensor_def(α, ξ, l, c1, K_const)\n",
    "PC = three_leg_tensor_def(β, η, k, c1, K_const)\n",
    "\n",
    "C3=PR*C2*PC*W"
   ]
  },
  {
   "cell_type": "code",
   "execution_count": 14,
   "id": "e29d0152",
   "metadata": {},
   "outputs": [
    {
     "data": {
      "text/plain": [
       "ITensor ord=3 (dim=4|id=88|\"α\") (dim=4|id=117|\"ξ\") (dim=2|id=551|\"l\")\n",
       "NDTensors.Dense{Float64, Vector{Float64}}"
      ]
     },
     "metadata": {},
     "output_type": "display_data"
    },
    {
     "data": {
      "text/plain": [
       "ITensor ord=3 (dim=4|id=505|\"β\") (dim=4|id=593|\"η\") (dim=2|id=773|\"k\")\n",
       "NDTensors.Dense{Float64, Vector{Float64}}"
      ]
     },
     "metadata": {},
     "output_type": "display_data"
    },
    {
     "data": {
      "text/plain": [
       "ITensor ord=4 (dim=2|id=237|\"i\") (dim=2|id=367|\"j\") (dim=2|id=773|\"k\") (dim=2|id=551|\"l\")\n",
       "NDTensors.Dense{Float64, Vector{Float64}}"
      ]
     },
     "metadata": {},
     "output_type": "display_data"
    },
    {
     "data": {
      "text/plain": [
       "ITensor ord=2 (dim=4|id=88|\"α\") (dim=4|id=505|\"β\")\n",
       "NDTensors.Dense{Float64, Vector{Float64}}"
      ]
     },
     "metadata": {},
     "output_type": "display_data"
    }
   ],
   "source": [
    "PR|>display\n",
    "PC|>display\n",
    "W|>display\n",
    "C2|>display"
   ]
  },
  {
   "cell_type": "code",
   "execution_count": 15,
   "id": "95780482",
   "metadata": {},
   "outputs": [
    {
     "data": {
      "text/plain": [
       "4"
      ]
     },
     "metadata": {},
     "output_type": "display_data"
    }
   ],
   "source": [
    "C2\n",
    "dim(α)"
   ]
  }
 ],
 "metadata": {
  "kernelspec": {
   "display_name": "Julia 1.11.4",
   "language": "julia",
   "name": "julia-1.11"
  },
  "language_info": {
   "file_extension": ".jl",
   "mimetype": "application/julia",
   "name": "julia",
   "version": "1.11.4"
  }
 },
 "nbformat": 4,
 "nbformat_minor": 5
}
