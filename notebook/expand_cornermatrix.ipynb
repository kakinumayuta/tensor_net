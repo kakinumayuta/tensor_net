{
 "cells": [
  {
   "cell_type": "code",
   "execution_count": null,
   "id": "30ee7c6f",
   "metadata": {
    "vscode": {
     "languageId": "julia"
    }
   },
   "outputs": [],
   "source": [
    "import Pkg\n",
    "Pkg.activate(\"../../tensor\")\n",
    "import tensor as ten\n",
    "using ITensors"
   ]
  },
  {
   "cell_type": "code",
   "execution_count": null,
   "id": "81c1c00a",
   "metadata": {
    "vscode": {
     "languageId": "julia"
    }
   },
   "outputs": [],
   "source": [
    "#Index\n",
    "#大きな足\n",
    "α = Index(2, \"α\")\n",
    "ξ = Index(2, \"ξ\")\n",
    "β = Index(2, \"β\")\n",
    "η = Index(2, \"η\")\n",
    "\n",
    "#小さな足\n",
    "i = Index(2, \"i\")\n",
    "j = Index(2, \"j\")\n",
    "k = Index(2, \"k\")\n",
    "l = Index(2, \"l\")\n",
    "\n",
    "#つぶす足\n",
    "c1 = Index(2 , \"c1\")\n",
    "c2 = Index(2 , \"c2\")\n",
    "\n",
    "#定数K\n",
    "K_const=-1.0"
   ]
  },
  {
   "cell_type": "code",
   "execution_count": null,
   "id": "53b6d732",
   "metadata": {
    "vscode": {
     "languageId": "julia"
    }
   },
   "outputs": [],
   "source": [
    "#4脚テンソルの定義\n",
    "W = four_leg_tensor_def(i, j, k, l,K_const)\n",
    "#2脚テンソルの定義\n",
    "C = two_leg_tensor_def(α, β, c1, c2, K_const)\n",
    "#3脚テンソルの定義\n",
    "PR = three_leg_tensor_def(α, ξ, l, c1, K_const)\n",
    "#3脚テンソルの定義\n",
    "PC = three_leg_tensor_def(β, η, k, c1, K_const)"
   ]
  },
  {
   "cell_type": "code",
   "execution_count": null,
   "id": "ec68bde2",
   "metadata": {
    "vscode": {
     "languageId": "julia"
    }
   },
   "outputs": [],
   "source": [
    "C2=PR*C*PC*W"
   ]
  }
 ],
 "metadata": {
  "language_info": {
   "name": "python"
  }
 },
 "nbformat": 4,
 "nbformat_minor": 5
}
