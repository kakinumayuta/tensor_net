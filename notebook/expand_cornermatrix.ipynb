{
 "cells": [
  {
   "cell_type": "code",
   "execution_count": 1,
   "id": "30ee7c6f",
   "metadata": {},
   "outputs": [
    {
     "name": "stderr",
     "output_type": "stream",
     "text": [
      "\u001b[32m\u001b[1m  Activating\u001b[22m\u001b[39m project at `c:\\Users\\kakin\\home\\workspace\\tensor`\n"
     ]
    }
   ],
   "source": [
    "import Pkg\n",
    "Pkg.activate(\"../../tensor\")\n",
    "import tensor as ten\n",
    "using ITensors"
   ]
  },
  {
   "cell_type": "code",
   "execution_count": 2,
   "id": "1e39e7ae",
   "metadata": {},
   "outputs": [],
   "source": [
    "import LinearAlgebra as LA"
   ]
  },
  {
   "cell_type": "code",
   "execution_count": null,
   "id": "02048de4",
   "metadata": {},
   "outputs": [],
   "source": [
    "#関数修正済み"
   ]
  },
  {
   "cell_type": "code",
   "execution_count": 3,
   "id": "81c1c00a",
   "metadata": {},
   "outputs": [
    {
     "data": {
      "text/plain": [
       "-0.1"
      ]
     },
     "metadata": {},
     "output_type": "display_data"
    }
   ],
   "source": [
    "#Index\n",
    "#大きな足\n",
    "α = Index(2, \"α\")\n",
    "ξ = Index(2, \"ξ\")\n",
    "β = Index(2, \"β\")\n",
    "η = Index(2, \"η\")\n",
    "\n",
    "#小さな足\n",
    "i = Index(2, \"i\")\n",
    "j = Index(2, \"j\")\n",
    "k = Index(2, \"k\")\n",
    "l = Index(2, \"l\")\n",
    "\n",
    "#つぶす足\n",
    "c1 = Index(2 , \"c1\")\n",
    "c2 = Index(2 , \"c2\")\n",
    "\n",
    "#定数K\n",
    "K_const=-0.1"
   ]
  },
  {
   "cell_type": "code",
   "execution_count": 4,
   "id": "53b6d732",
   "metadata": {},
   "outputs": [
    {
     "data": {
      "text/plain": [
       "ITensor ord=3 (dim=2|id=465|\"β\") (dim=2|id=846|\"η\") (dim=2|id=924|\"k\")\n",
       "NDTensors.Dense{Float64, Vector{Float64}}"
      ]
     },
     "metadata": {},
     "output_type": "display_data"
    }
   ],
   "source": [
    "#ここがおかしい\n",
    "#4脚テンソルの定義\n",
    "W = ten.four_leg_tensor_def(i, j, k, l,K_const)\n",
    "#2脚テンソルの定義\n",
    "C = ten.two_leg_tensor_def(α, β, c1, c2, K_const)\n",
    "#3脚テンソルの定義\n",
    "PR = ten.three_leg_tensor_def(α, ξ, l, c1, K_const)\n",
    "#3脚テンソルの定義\n",
    "PC = ten.three_leg_tensor_def(β, η , k, c1, K_const)"
   ]
  },
  {
   "cell_type": "code",
   "execution_count": 6,
   "id": "2e7b401b",
   "metadata": {},
   "outputs": [
    {
     "data": {
      "text/plain": [
       "(ITensor ord=3\n",
       "Dim 1: (dim=4|id=45|\"ξ\")\n",
       "Dim 2: (dim=2|id=247|\"l\")\n",
       "Dim 3: (dim=4|id=289|\"α\")\n",
       "NDTensors.Dense{Float64, Vector{Float64}}\n",
       " 4×2×4\n",
       "[:, :, 1] =\n",
       " 3.1196490101528607  4.65396944131818\n",
       " 3.832464789712549   5.717365626133738\n",
       " 3.6703200460356395  3.6703200460356395\n",
       " 4.49182469764127    4.49182469764127\n",
       "\n",
       "[:, :, 2] =\n",
       " 3.6703200460356395  5.475474092923811\n",
       " 3.0109601381069178  4.49182469764127\n",
       " 4.49182469764127    4.49182469764127\n",
       " 3.6703200460356395  3.6703200460356395\n",
       "\n",
       "[:, :, 3] =\n",
       " 3.6703200460356395  3.6703200460356395\n",
       " 4.49182469764127    4.49182469764127\n",
       " 4.49182469764127    3.0109601381069178\n",
       " 5.475474092923811   3.6703200460356395\n",
       "\n",
       "[:, :, 4] =\n",
       " 4.49182469764127    4.49182469764127\n",
       " 3.6703200460356395  3.6703200460356395\n",
       " 5.717365626133738   3.832464789712549\n",
       " 4.65396944131818    3.119649010152861, (dim=4|id=45|\"ξ\"), (dim=4|id=289|\"α\"), ITensor ord=3\n",
       "Dim 1: (dim=4|id=827|\"CMB,Link\")\n",
       "Dim 2: (dim=2|id=860|\"ξ\")\n",
       "Dim 3: (dim=2|id=79|\"i\")\n",
       "NDTensors.Combiner\n",
       " 4×2×2\n",
       "\n",
       "Permutation of blocks: Int64[]\n",
       "Combination of blocks: Int64[]\n",
       ")"
      ]
     },
     "metadata": {},
     "output_type": "display_data"
    }
   ],
   "source": [
    "function Expand_PR(PR::ITensor,W::ITensor,α::Index{Int64},k::Index{Int64},ξ::Index{Int64},i::Index{Int64},l::Index{Int64})\n",
    "    #拡大\n",
    "    PR2=PR*W\n",
    "\n",
    "    #文字の結合\n",
    "    αk = combiner(α, k)\n",
    "    ξi = combiner(ξ, i)\n",
    "\n",
    "    PR2_ext = αk * PR2\n",
    "    ξ = Index(dim(uniqueinds(αk)[1]), \"ξ\")\n",
    "    replaceinds!(PR2_ext, uniqueinds(αk)[1] => ξ)\n",
    "\n",
    "    PR2_ext = PR2_ext * ξi \n",
    "    α = Index(dim(uniqueinds(ξi)[1]), \"α\")\n",
    "    replaceinds!(PR2_ext, uniqueinds(ξi)[1] => α)\n",
    "\n",
    "    replaceinds!(PR2_ext, uniqueinds(j)[1] => l)\n",
    "\n",
    "    return PR2_ext,ξ,α,ξi\n",
    "end\n",
    "\n",
    "PR2,ξ,α,ξi=Expand_PR(PR,W,α,k,ξ,i,l)\n"
   ]
  },
  {
   "cell_type": "code",
   "execution_count": 7,
   "id": "2b161bf7",
   "metadata": {},
   "outputs": [
    {
     "data": {
      "text/plain": [
       "(ITensor ord=3\n",
       "Dim 1: (dim=4|id=162|\"ξ\")\n",
       "Dim 2: (dim=2|id=79|\"i\")\n",
       "Dim 3: (dim=4|id=391|\"α\")\n",
       "NDTensors.Dense{Float64, Vector{Float64}}\n",
       " 4×2×4\n",
       "[:, :, 1] =\n",
       " 3.1196490101528607  4.65396944131818\n",
       " 3.832464789712549   5.717365626133738\n",
       " 3.6703200460356395  3.6703200460356395\n",
       " 4.49182469764127    4.49182469764127\n",
       "\n",
       "[:, :, 2] =\n",
       " 3.6703200460356395  5.475474092923811\n",
       " 3.0109601381069178  4.49182469764127\n",
       " 4.49182469764127    4.49182469764127\n",
       " 3.6703200460356395  3.6703200460356395\n",
       "\n",
       "[:, :, 3] =\n",
       " 3.6703200460356395  3.6703200460356395\n",
       " 4.49182469764127    4.49182469764127\n",
       " 4.49182469764127    3.0109601381069178\n",
       " 5.475474092923811   3.6703200460356395\n",
       "\n",
       "[:, :, 4] =\n",
       " 4.49182469764127    4.49182469764127\n",
       " 3.6703200460356395  3.6703200460356395\n",
       " 5.717365626133738   3.832464789712549\n",
       " 4.65396944131818    3.119649010152861, (dim=4|id=162|\"ξ\"), (dim=4|id=391|\"α\"), ITensor ord=3\n",
       "Dim 1: (dim=4|id=32|\"CMB,Link\")\n",
       "Dim 2: (dim=2|id=846|\"η\")\n",
       "Dim 3: (dim=2|id=99|\"j\")\n",
       "NDTensors.Combiner\n",
       " 4×2×2\n",
       "\n",
       "Permutation of blocks: Int64[]\n",
       "Combination of blocks: Int64[]\n",
       ")"
      ]
     },
     "metadata": {},
     "output_type": "display_data"
    }
   ],
   "source": [
    "function Expand_PC(PC::ITensor,W::ITensor,β::Index{Int64},l::Index{Int64},η::Index{Int64},j::Index{Int64},i::Index{Int64})\n",
    "    PC2=PC*W\n",
    "    βl = combiner(β, l)\n",
    "    ηj = combiner(η, j)\n",
    "\n",
    "    PC2_ext = βl * PC2\n",
    "    η = Index(dim(uniqueinds(βl)[1]), \"η\")\n",
    "    replaceinds!(PC2_ext, uniqueinds(βl)[1] => η)\n",
    "\n",
    "    PC2_ext = PC2_ext * ηj \n",
    "    β = Index(dim(uniqueinds(ηj)[1]), \"β\")\n",
    "    replaceinds!(PC2_ext, uniqueinds(ηj)[1] => β)\n",
    "\n",
    "    replaceinds!(PC2_ext, uniqueinds(k)[1] => i)\n",
    "\n",
    "    return PC2_ext,η,β,ηj\n",
    "end\n",
    "\n",
    "PC2,η,β,ηj=Expand_PR(PC,W,β,l,η,j,i)"
   ]
  },
  {
   "cell_type": "code",
   "execution_count": 32,
   "id": "9f63a9f7",
   "metadata": {},
   "outputs": [
    {
     "data": {
      "text/plain": [
       "ITensor"
      ]
     },
     "metadata": {},
     "output_type": "display_data"
    }
   ],
   "source": [
    "typeof(ξi)"
   ]
  },
  {
   "cell_type": "code",
   "execution_count": 34,
   "id": "2b50ee2a",
   "metadata": {},
   "outputs": [
    {
     "data": {
      "text/plain": [
       "ITensor ord=2 (dim=4|id=289|\"α\") (dim=4|id=391|\"α\")\n",
       "NDTensors.Dense{Float64, Vector{Float64}}"
      ]
     },
     "metadata": {},
     "output_type": "display_data"
    }
   ],
   "source": [
    "function Expand_C(PR::ITensor,C::ITensor,PC::ITensor,W::ITensor,ξi::ITensor,ηj::ITensor)\n",
    "    #拡大\n",
    "    C2=PR*C*PC*W\n",
    "\n",
    "    #文字の結合\n",
    "    C2_ext = ξi * C2 * ηj\n",
    "\n",
    "    replaceinds!(C2_ext, uniqueinds(ξi)[1] => α)\n",
    "    replaceinds!(C2_ext, uniqueinds(ηj)[1] => β)\n",
    "\n",
    "    return C2_ext\n",
    "end\n",
    "\n",
    "C2=Expand_C(PR,C,PC,W,ξi,ηj)"
   ]
  },
  {
   "cell_type": "code",
   "execution_count": 9,
   "id": "cec57563",
   "metadata": {},
   "outputs": [
    {
     "data": {
      "text/plain": [
       "ITensor ord=3 (dim=4|id=45|\"ξ\") (dim=2|id=247|\"l\") (dim=4|id=289|\"α\")\n",
       "NDTensors.Dense{Float64, Vector{Float64}}"
      ]
     },
     "metadata": {},
     "output_type": "display_data"
    },
    {
     "data": {
      "text/plain": [
       "ITensor ord=3 (dim=4|id=162|\"ξ\") (dim=2|id=79|\"i\") (dim=4|id=391|\"α\")\n",
       "NDTensors.Dense{Float64, Vector{Float64}}"
      ]
     },
     "metadata": {},
     "output_type": "display_data"
    },
    {
     "data": {
      "text/plain": [
       "ITensor ord=2 (dim=4|id=289|\"α\") (dim=4|id=391|\"α\")\n",
       "NDTensors.Dense{Float64, Vector{Float64}}"
      ]
     },
     "metadata": {},
     "output_type": "display_data"
    },
    {
     "data": {
      "text/plain": [
       "ITensor ord=4 (dim=2|id=79|\"i\") (dim=2|id=99|\"j\") (dim=2|id=924|\"k\") (dim=2|id=247|\"l\")\n",
       "NDTensors.Dense{Float64, Vector{Float64}}"
      ]
     },
     "metadata": {},
     "output_type": "display_data"
    }
   ],
   "source": [
    "PR2|>display\n",
    "PC2|>display\n",
    "C2|>display\n",
    "W|>display"
   ]
  },
  {
   "cell_type": "code",
   "execution_count": 10,
   "id": "88409f32",
   "metadata": {},
   "outputs": [
    {
     "data": {
      "text/plain": [
       "ITensor ord=4 (dim=4|id=45|\"ξ\") (dim=4|id=162|\"ξ\") (dim=2|id=99|\"j\") (dim=2|id=924|\"k\")\n",
       "NDTensors.Dense{Float64, Vector{Float64}}"
      ]
     },
     "metadata": {},
     "output_type": "display_data"
    }
   ],
   "source": [
    "C3=PR2*PC2*C2*W"
   ]
  },
  {
   "cell_type": "code",
   "execution_count": 11,
   "id": "7414fb54",
   "metadata": {},
   "outputs": [
    {
     "name": "stdout",
     "output_type": "stream",
     "text": [
      "norm(C2 * U - Ul * D) = 1.1791567914286052e-12\n",
      "一致する？ true\n"
     ]
    }
   ],
   "source": [
    "# 固有値分解\n",
    "D, U = eigen(C2, α, β)\n",
    "\n",
    "# インデックスの取り出し\n",
    "dl = uniqueind(D, U)\n",
    "dr = commonind(D, U)\n",
    "\n",
    "# 正しい方法でUlを作成（置き換えは個別に！）\n",
    "Ul = replaceinds(U, (β => α, dr => dl))\n",
    "\n",
    "# 誤差チェック\n",
    "diff = norm(C2 * U - Ul * D)\n",
    "println(\"norm(C2 * U - Ul * D) = \", diff)\n",
    "println(\"一致する？ \", diff < 1e-11)\n",
    "\n"
   ]
  },
  {
   "cell_type": "code",
   "execution_count": 18,
   "id": "46de23bf",
   "metadata": {},
   "outputs": [
    {
     "data": {
      "text/plain": [
       "ITensor ord=2 (dim=4|id=289|\"α\") (dim=4|id=391|\"α\")\n",
       "NDTensors.Dense{ComplexF64, Vector{ComplexF64}}"
      ]
     },
     "metadata": {},
     "output_type": "display_data"
    }
   ],
   "source": [
    "Ul*D*U"
   ]
  },
  {
   "cell_type": "code",
   "execution_count": 19,
   "id": "426fa157",
   "metadata": {},
   "outputs": [
    {
     "data": {
      "text/plain": [
       "ITensor ord=2 (dim=3|id=921|\"χ\")' (dim=4|id=289|\"α\")\n",
       "NDTensors.Dense{ComplexF64, Vector{ComplexF64}}"
      ]
     },
     "metadata": {},
     "output_type": "display_data"
    }
   ],
   "source": [
    "resUl"
   ]
  },
  {
   "cell_type": "code",
   "execution_count": 20,
   "id": "2f85798a",
   "metadata": {},
   "outputs": [
    {
     "data": {
      "text/plain": [
       "ITensor ord=2 (dim=3|id=921|\"χ\")' (dim=3|id=921|\"χ\")\n",
       "NDTensors.Dense{ComplexF64, Vector{ComplexF64}}"
      ]
     },
     "metadata": {},
     "output_type": "display_data"
    }
   ],
   "source": [
    "resD"
   ]
  },
  {
   "cell_type": "code",
   "execution_count": 21,
   "id": "6a8e566c",
   "metadata": {},
   "outputs": [
    {
     "data": {
      "text/plain": [
       "(4, 3)"
      ]
     },
     "metadata": {},
     "output_type": "display_data"
    },
    {
     "data": {
      "text/plain": [
       "(3, 4)"
      ]
     },
     "metadata": {},
     "output_type": "display_data"
    },
    {
     "data": {
      "text/plain": [
       "(3, 3)"
      ]
     },
     "metadata": {},
     "output_type": "display_data"
    }
   ],
   "source": [
    "size(resU)|>display\n",
    "size(resUl)|>display\n",
    "size(resD)|>display"
   ]
  },
  {
   "cell_type": "code",
   "execution_count": 22,
   "id": "2490ae41",
   "metadata": {},
   "outputs": [
    {
     "data": {
      "text/plain": [
       "ITensor ord=2 (dim=4|id=289|\"α\") (dim=4|id=391|\"α\")\n",
       "NDTensors.Dense{ComplexF64, Vector{ComplexF64}}"
      ]
     },
     "metadata": {},
     "output_type": "display_data"
    }
   ],
   "source": [
    "A=resUl*resD*resU\n",
    "#テスト"
   ]
  },
  {
   "cell_type": "code",
   "execution_count": 23,
   "id": "fff8ffba",
   "metadata": {},
   "outputs": [
    {
     "data": {
      "text/plain": [
       "ITensor ord=2 (dim=4|id=289|\"α\") (dim=4|id=391|\"α\")\n",
       "NDTensors.Dense{Float64, Vector{Float64}}"
      ]
     },
     "metadata": {},
     "output_type": "display_data"
    }
   ],
   "source": [
    "C2"
   ]
  },
  {
   "cell_type": "code",
   "execution_count": 24,
   "id": "c0a4ac0c",
   "metadata": {},
   "outputs": [
    {
     "data": {
      "text/plain": [
       "(dim=4|id=289|\"α\")"
      ]
     },
     "metadata": {},
     "output_type": "display_data"
    }
   ],
   "source": [
    "α"
   ]
  },
  {
   "cell_type": "code",
   "execution_count": 25,
   "id": "6f89bc16",
   "metadata": {},
   "outputs": [
    {
     "data": {
      "text/plain": [
       "ITensor ord=3 (dim=2|id=870|\"α\") (dim=2|id=860|\"ξ\") (dim=2|id=247|\"l\")\n",
       "NDTensors.Dense{Float64, Vector{Float64}}"
      ]
     },
     "metadata": {},
     "output_type": "display_data"
    }
   ],
   "source": [
    "PR"
   ]
  },
  {
   "cell_type": "code",
   "execution_count": 26,
   "id": "3707cbb1",
   "metadata": {},
   "outputs": [
    {
     "data": {
      "text/plain": [
       "ITensor ord=5 (dim=2|id=870|\"α\") (dim=2|id=860|\"ξ\") (dim=2|id=79|\"i\") (dim=2|id=99|\"j\") (dim=2|id=924|\"k\")\n",
       "NDTensors.Dense{Float64, Vector{Float64}}"
      ]
     },
     "metadata": {},
     "output_type": "display_data"
    }
   ],
   "source": [
    "PR2=PR*W"
   ]
  },
  {
   "cell_type": "code",
   "execution_count": 27,
   "id": "73eea976",
   "metadata": {},
   "outputs": [
    {
     "data": {
      "text/plain": [
       "(dim=4|id=289|\"α\")"
      ]
     },
     "metadata": {},
     "output_type": "display_data"
    }
   ],
   "source": [
    "α"
   ]
  },
  {
   "cell_type": "code",
   "execution_count": 28,
   "id": "794f4d02",
   "metadata": {},
   "outputs": [],
   "source": [
    "#=using ITensors\n",
    "\n",
    "# 対角化（例: A is ITensor with indices α, β）\n",
    "D, U = eigen(C2, α, β)\n",
    "\n",
    "dr = commonind(D, U)\n",
    "dl = uniqueind(D, U)\n",
    "\n",
    "χ = 2\n",
    "\n",
    "# ✅ 新しい次元χのIndexを新規生成（タグは同じでもOK）\n",
    "drχ = Index(χ, \"Link,eigen\")\n",
    "dlχ = prime(drχ)\n",
    "\n",
    "# ✅ Uのインデックス置き換え（単一の置換ならこれで十分）\n",
    "Uχ = replaceind(U, dr => drχ)\n",
    "\n",
    "# ✅ Dχ の構築\n",
    "Dχ = ITensor(dlχ, drχ)\n",
    "for n in 1:χ\n",
    "    Dχ[dlχ => n, drχ => n] = D[dl => n, dr => n]\n",
    "end\n",
    "\n",
    "# ✅ Ulχ の構成（ここも replaceind で十分）\n",
    "Ulχ = replaceind(Uχ, β => α)\n",
    "Ulχ = replaceind(Ulχ, drχ => dlχ)\n",
    "\n",
    "# ✅ 再構成して誤差確認\n",
    "Aχ = Ulχ * Dχ\n",
    "println(\"圧縮誤差: \", norm(C2 - Aχ))\n",
    "=#"
   ]
  },
  {
   "cell_type": "code",
   "execution_count": 29,
   "id": "28a57b75",
   "metadata": {},
   "outputs": [
    {
     "data": {
      "text/plain": [
       "1.1193247171101585e-12"
      ]
     },
     "metadata": {},
     "output_type": "display_data"
    }
   ],
   "source": [
    "D\n",
    "norm(Ul*D*U-C2)"
   ]
  },
  {
   "cell_type": "code",
   "execution_count": 30,
   "id": "5279a3e4",
   "metadata": {},
   "outputs": [
    {
     "name": "stdout",
     "output_type": "stream",
     "text": [
      " 253.49616979434984  249.95712926003972  304.66466954142385  312.7072764780771\n",
      " 249.95712926003972  244.49265776061023  299.22179615334585  304.66466954142385\n",
      " 304.6646695414238   299.22179615334585  244.4926577606102   249.95712926003972\n",
      " 312.7072764780772   304.66466954142385  249.95712926003972  253.49616979434984"
     ]
    }
   ],
   "source": [
    "A=Array(C2,α,β)\n",
    "Base.print_matrix(stdout,A)"
   ]
  }
 ],
 "metadata": {
  "kernelspec": {
   "display_name": "Julia 1.11.4",
   "language": "julia",
   "name": "julia-1.11"
  },
  "language_info": {
   "file_extension": ".jl",
   "mimetype": "application/julia",
   "name": "julia",
   "version": "1.11.4"
  }
 },
 "nbformat": 4,
 "nbformat_minor": 5
}
