{
 "cells": [
  {
   "cell_type": "code",
   "execution_count": 1,
   "id": "30ee7c6f",
   "metadata": {},
   "outputs": [
    {
     "name": "stderr",
     "output_type": "stream",
     "text": [
      "\u001b[32m\u001b[1m  Activating\u001b[22m\u001b[39m project at `c:\\Users\\kakin\\home\\workspace\\tensor`\n"
     ]
    }
   ],
   "source": [
    "import Pkg\n",
    "Pkg.activate(\"../../tensor\")\n",
    "import tensor as ten\n",
    "using ITensors"
   ]
  },
  {
   "cell_type": "code",
   "execution_count": 2,
   "id": "1e39e7ae",
   "metadata": {},
   "outputs": [],
   "source": [
    "import LinearAlgebra as LA"
   ]
  },
  {
   "cell_type": "code",
   "execution_count": 3,
   "id": "81c1c00a",
   "metadata": {},
   "outputs": [
    {
     "data": {
      "text/plain": [
       "-0.1"
      ]
     },
     "metadata": {},
     "output_type": "display_data"
    }
   ],
   "source": [
    "#Index\n",
    "#大きな足\n",
    "α = Index(2, \"α\")\n",
    "ξ = Index(2, \"ξ\")\n",
    "β = Index(2, \"β\")\n",
    "η = Index(2, \"η\")\n",
    "\n",
    "#小さな足\n",
    "i = Index(2, \"i\")\n",
    "j = Index(2, \"j\")\n",
    "k = Index(2, \"k\")\n",
    "l = Index(2, \"l\")\n",
    "\n",
    "#つぶす足\n",
    "c1 = Index(2 , \"c1\")\n",
    "c2 = Index(2 , \"c2\")\n",
    "\n",
    "#定数K\n",
    "K_const=-0.1"
   ]
  },
  {
   "cell_type": "code",
   "execution_count": 4,
   "id": "53b6d732",
   "metadata": {},
   "outputs": [
    {
     "data": {
      "text/plain": [
       "ITensor ord=3 (dim=2|id=814|\"β\") (dim=2|id=680|\"η\") (dim=2|id=201|\"k\")\n",
       "NDTensors.Dense{Float64, Vector{Float64}}"
      ]
     },
     "metadata": {},
     "output_type": "display_data"
    }
   ],
   "source": [
    "#ここがおかしい\n",
    "#4脚テンソルの定義\n",
    "W = ten.four_leg_tensor_def(i, j, k, l,K_const)\n",
    "#2脚テンソルの定義\n",
    "C = ten.two_leg_tensor_def(α, β, c1, c2, K_const)\n",
    "#3脚テンソルの定義\n",
    "PR = ten.three_leg_tensor_def(α, ξ, l, c1, K_const)\n",
    "#3脚テンソルの定義\n",
    "PC = ten.three_leg_tensor_def(β, η , k, c1, K_const)"
   ]
  },
  {
   "cell_type": "code",
   "execution_count": 5,
   "id": "ec68bde2",
   "metadata": {},
   "outputs": [
    {
     "data": {
      "text/plain": [
       "ITensor ord=4 (dim=2|id=560|\"ξ\") (dim=2|id=680|\"η\") (dim=2|id=547|\"i\") (dim=2|id=43|\"j\")\n",
       "NDTensors.Dense{Float64, Vector{Float64}}"
      ]
     },
     "metadata": {},
     "output_type": "display_data"
    }
   ],
   "source": [
    "C2=PR*C*PC*W"
   ]
  },
  {
   "cell_type": "code",
   "execution_count": 6,
   "id": "80a46aea",
   "metadata": {},
   "outputs": [
    {
     "data": {
      "text/plain": [
       "ITensor ord=2 (dim=4|id=445|\"α\") (dim=4|id=433|\"β\")\n",
       "NDTensors.Dense{Float64, Vector{Float64}}"
      ]
     },
     "metadata": {},
     "output_type": "display_data"
    }
   ],
   "source": [
    "ξi = combiner(ξ, i)\n",
    "ηj = combiner(η, j)\n",
    "\n",
    "C2_ext = ξi * C2 * ηj\n",
    "\n",
    "α = Index(dim(uniqueinds(ξi)[1]), \"α\")\n",
    "β = Index(dim(uniqueinds(ηj)[1]), \"β\")\n",
    "replaceinds!(C2_ext, uniqueinds(ξi)[1] => α)\n",
    "replaceinds!(C2_ext, uniqueinds(ηj)[1] => β)\n",
    "\n",
    "C2=C2_ext"
   ]
  },
  {
   "cell_type": "code",
   "execution_count": 7,
   "id": "7414fb54",
   "metadata": {},
   "outputs": [
    {
     "name": "stdout",
     "output_type": "stream",
     "text": [
      "norm(C2 * U - Ul * D) = 1.1791567914286052e-12\n",
      "一致する？ true\n"
     ]
    }
   ],
   "source": [
    "# 固有値分解\n",
    "D, U = eigen(C2, α, β)\n",
    "\n",
    "# インデックスの取り出し\n",
    "dl = uniqueind(D, U)\n",
    "dr = commonind(D, U)\n",
    "\n",
    "# 正しい方法でUlを作成（置き換えは個別に！）\n",
    "Ul = replaceinds(U, (β => α, dr => dl))\n",
    "\n",
    "# 誤差チェック\n",
    "diff = norm(C2 * U - Ul * D)\n",
    "println(\"norm(C2 * U - Ul * D) = \", diff)\n",
    "println(\"一致する？ \", diff < 1e-11)\n",
    "\n"
   ]
  },
  {
   "cell_type": "code",
   "execution_count": 32,
   "id": "86b7e60c",
   "metadata": {},
   "outputs": [
    {
     "name": "stdout",
     "output_type": "stream",
     "text": [
      "D = ITensor ord=2\n",
      "Dim 1: (dim=4|id=217|\"Link,eigen\")'\n",
      "Dim 2: (dim=4|id=217|\"Link,eigen\")\n",
      "NDTensors.Diag{ComplexF64, Vector{ComplexF64}}\n",
      " 4×4\n",
      " -2.2167027949896285 + 0.0im                 0.0 + 0.0im                  0.0 + 0.0im                 0.0 + 0.0im\n",
      "                 0.0 + 0.0im  -111.7235422814734 + 0.0im                  0.0 + 0.0im                 0.0 + 0.0im\n",
      "                 0.0 + 0.0im                 0.0 + 0.0im  0.22317659368484247 + 0.0im                 0.0 + 0.0im\n",
      "                 0.0 + 0.0im                 0.0 + 0.0im                  0.0 + 0.0im  1109.6947235926991 + 0.0im\n"
     ]
    },
    {
     "data": {
      "text/plain": [
       "ITensor ord=2 (dim=4|id=217|\"Link,eigen\")' (dim=4|id=217|\"Link,eigen\")\n",
       "NDTensors.Diag{ComplexF64, Vector{ComplexF64}}"
      ]
     },
     "metadata": {},
     "output_type": "display_data"
    }
   ],
   "source": [
    "function Sort_Diagonal(D::ITensor)\n",
    "    Dnew=copy(D)\n",
    "\n",
    "    #対角要素の並び替え\n",
    "    for i in 1:size(D)[1]\n",
    "        for j in (i+1):size(D)[2]\n",
    "            if abs(real(Dnew[i,i])) < abs(real(Dnew[j,j]))\n",
    "                tmp=Dnew[i,i]\n",
    "                Dnew[i,i]=Dnew[j,j]\n",
    "                Dnew[j,j]=tmp\n",
    "            end\n",
    "        end\n",
    "    end\n",
    "\n",
    "    \n",
    "    return Dnew\n",
    "end\n",
    "\n",
    "Dnew=Sort_Diagonal(D)\n",
    "@show D"
   ]
  },
  {
   "cell_type": "code",
   "execution_count": 33,
   "id": "fbb8307d",
   "metadata": {},
   "outputs": [
    {
     "name": "stdout",
     "output_type": "stream",
     "text": [
      "D = ITensor ord=2\n",
      "Dim 1: (dim=4|id=217|\"Link,eigen\")'\n",
      "Dim 2: (dim=4|id=217|\"Link,eigen\")\n",
      "NDTensors.Diag{ComplexF64, Vector{ComplexF64}}\n",
      " 4×4\n",
      " -2.2167027949896285 + 0.0im                 0.0 + 0.0im                  0.0 + 0.0im                 0.0 + 0.0im\n",
      "                 0.0 + 0.0im  -111.7235422814734 + 0.0im                  0.0 + 0.0im                 0.0 + 0.0im\n",
      "                 0.0 + 0.0im                 0.0 + 0.0im  0.22317659368484247 + 0.0im                 0.0 + 0.0im\n",
      "                 0.0 + 0.0im                 0.0 + 0.0im                  0.0 + 0.0im  1109.6947235926991 + 0.0im\n",
      "idx = [3, 1, 2, 4]\n"
     ]
    },
    {
     "data": {
      "text/plain": [
       "4-element Vector{Int64}:\n",
       " 3\n",
       " 1\n",
       " 2\n",
       " 4"
      ]
     },
     "metadata": {},
     "output_type": "display_data"
    }
   ],
   "source": [
    "function Sort_idx(D::ITensor,i::Index{Int64},j::Index{Int64})\n",
    "    # 対角要素を取り出す\n",
    "    diag_elements=Float64[]\n",
    "    for i in 1:size(D)[1]\n",
    "        push!(diag_elements,D[i,i])\n",
    "    end\n",
    "    \n",
    "    # 絶対値でソートしたインデックスを取得\n",
    "    sorted_indices = sortperm(abs.(diag_elements))\n",
    "    \n",
    "    return sorted_indices\n",
    "end\n",
    "\n",
    "idx=Sort_idx(D,i,j)\n",
    "@show D\n",
    "@show idx"
   ]
  },
  {
   "cell_type": "code",
   "execution_count": 15,
   "id": "6f12ef4a",
   "metadata": {},
   "outputs": [
    {
     "data": {
      "text/plain": [
       "(dim=3|id=158|\"χ\")"
      ]
     },
     "metadata": {},
     "output_type": "display_data"
    }
   ],
   "source": [
    "χ_num=3\n",
    "χ=Index(χ_num,\"χ\")"
   ]
  },
  {
   "cell_type": "code",
   "execution_count": null,
   "id": "2e79175f",
   "metadata": {},
   "outputs": [
    {
     "name": "stdout",
     "output_type": "stream",
     "text": [
      "D = ITensor ord=2\n",
      "Dim 1: (dim=4|id=217|\"Link,eigen\")'\n",
      "Dim 2: (dim=4|id=217|\"Link,eigen\")\n",
      "NDTensors.Diag{ComplexF64, Vector{ComplexF64}}\n",
      " 4×4\n",
      " -2.2167027949896285 + 0.0im                 0.0 + 0.0im                  0.0 + 0.0im                 0.0 + 0.0im\n",
      "                 0.0 + 0.0im  -111.7235422814734 + 0.0im                  0.0 + 0.0im                 0.0 + 0.0im\n",
      "                 0.0 + 0.0im                 0.0 + 0.0im  0.22317659368484247 + 0.0im                 0.0 + 0.0im\n",
      "                 0.0 + 0.0im                 0.0 + 0.0im                  0.0 + 0.0im  1109.6947235926991 + 0.0im\n",
      "resD = ITensor ord=2\n",
      "Dim 1: (dim=3|id=158|\"χ\")'\n",
      "Dim 2: (dim=3|id=158|\"χ\")\n",
      "NDTensors.Dense{ComplexF64, Vector{ComplexF64}}\n",
      " 3×3\n",
      " -2.2167027949896285 + 0.0im                 0.0 + 0.0im                  0.0 + 0.0im\n",
      "                 0.0 + 0.0im  -111.7235422814734 + 0.0im                  0.0 + 0.0im\n",
      "                 0.0 + 0.0im                 0.0 + 0.0im  0.22317659368484247 + 0.0im\n"
     ]
    },
    {
     "data": {
      "text/plain": [
       "ITensor ord=2 (dim=3|id=158|\"χ\")' (dim=3|id=158|\"χ\")\n",
       "NDTensors.Dense{ComplexF64, Vector{ComplexF64}}"
      ]
     },
     "metadata": {},
     "output_type": "display_data"
    }
   ],
   "source": [
    "function Restrict_Diagonal(D::ITensor, χ::Int64,a1::Index{Int64},a2::Index{Int64})\n",
    "    if size(D)[1]<χ\n",
    "        return D\n",
    "    end\n",
    "\n",
    "    resD=ITensor(a1',a2)\n",
    "\n",
    "    for i in 1:χ\n",
    "        resD[i,i]=D[i,i]\n",
    "    end\n",
    "\n",
    "    return resD\n",
    "end\n",
    "resD = Restrict_Diagonal(D, χ_num,χ,χ)\n",
    "@show D\n",
    "@show resD\n"
   ]
  },
  {
   "cell_type": "code",
   "execution_count": 42,
   "id": "64f76055",
   "metadata": {},
   "outputs": [
    {
     "name": "stdout",
     "output_type": "stream",
     "text": [
      "U = ITensor ord=2\n",
      "Dim 1: (dim=4|id=433|\"β\")\n",
      "Dim 2: (dim=4|id=217|\"Link,eigen\")\n",
      "NDTensors.Dense{ComplexF64, Vector{ComplexF64}}\n",
      " 4×4\n",
      "  0.5101295572748251 + 0.0im  -0.4896609386040289 + 0.0im  0.49490655590318317 + 0.0im   0.5050420783697566 + 0.0im\n",
      " 0.48966093860404125 + 0.0im   0.5101295572748119 + 0.0im  -0.5050420783697509 + 0.0im    0.494906555903189 + 0.0im\n",
      " -0.4896609386040415 + 0.0im  -0.5101295572748379 + 0.0im   -0.505042078369763 + 0.0im  0.49490655590318916 + 0.0im\n",
      " -0.5101295572748253 + 0.0im   0.4896609386040544 + 0.0im  0.49490655590319454 + 0.0im    0.505042078369757 + 0.0im\n",
      "resU = ITensor ord=2\n",
      "Dim 1: (dim=4|id=433|\"β\")\n",
      "Dim 2: (dim=3|id=158|\"χ\")\n",
      "NDTensors.Dense{ComplexF64, Vector{ComplexF64}}\n",
      " 4×3\n",
      " 0.49490655590318317 + 0.0im   0.5101295572748251 + 0.0im  -0.4896609386040289 + 0.0im\n",
      " -0.5050420783697509 + 0.0im  0.48966093860404125 + 0.0im   0.5101295572748119 + 0.0im\n",
      "  -0.505042078369763 + 0.0im  -0.4896609386040415 + 0.0im  -0.5101295572748379 + 0.0im\n",
      " 0.49490655590319454 + 0.0im  -0.5101295572748253 + 0.0im   0.4896609386040544 + 0.0im\n"
     ]
    },
    {
     "data": {
      "text/plain": [
       "ITensor ord=2 (dim=4|id=433|\"β\") (dim=3|id=158|\"χ\")\n",
       "NDTensors.Dense{ComplexF64, Vector{ComplexF64}}"
      ]
     },
     "metadata": {},
     "output_type": "display_data"
    }
   ],
   "source": [
    "function Restrict_EigenvecsU(U::ITensor, χ::Int64,a1::Index{Int64},a2::Index{Int64},idx::Vector{Int64})\n",
    "    if size(U)[1]<χ\n",
    "        return U\n",
    "    end\n",
    "\n",
    "    resU=ITensor(a1,a2)\n",
    "\n",
    "    #並び替え\n",
    "    newU=copy(U)\n",
    "    \n",
    "    for i in 1:size(U)[1]\n",
    "        cou=1\n",
    "        for j in idx\n",
    "            newU[i,cou]=U[i,j]\n",
    "            cou+=1\n",
    "        end\n",
    "    end\n",
    "    \n",
    "\n",
    "    #大きさを制限\n",
    "    for i in 1:size(U)[1]\n",
    "        for j in 1:χ\n",
    "            resU[i,j]=newU[i,j]\n",
    "        end\n",
    "    end\n",
    "\n",
    "    return resU\n",
    "end\n",
    "resU = Restrict_EigenvecsU(U, χ_num,β,χ,idx)\n",
    "@show U\n",
    "@show resU"
   ]
  },
  {
   "cell_type": "code",
   "execution_count": 43,
   "id": "fc925db3",
   "metadata": {},
   "outputs": [
    {
     "name": "stdout",
     "output_type": "stream",
     "text": [
      "Ul = ITensor ord=2\n",
      "Dim 1: (dim=4|id=445|\"α\")\n",
      "Dim 2: (dim=4|id=217|\"Link,eigen\")'\n",
      "NDTensors.Dense{ComplexF64, Vector{ComplexF64}}\n",
      " 4×4\n",
      "  0.5101295572748251 + 0.0im  -0.4896609386040289 + 0.0im  0.49490655590318317 + 0.0im   0.5050420783697566 + 0.0im\n",
      " 0.48966093860404125 + 0.0im   0.5101295572748119 + 0.0im  -0.5050420783697509 + 0.0im    0.494906555903189 + 0.0im\n",
      " -0.4896609386040415 + 0.0im  -0.5101295572748379 + 0.0im   -0.505042078369763 + 0.0im  0.49490655590318916 + 0.0im\n",
      " -0.5101295572748253 + 0.0im   0.4896609386040544 + 0.0im  0.49490655590319454 + 0.0im    0.505042078369757 + 0.0im\n",
      "resUl = ITensor ord=2\n",
      "Dim 1: (dim=3|id=158|\"χ\")'\n",
      "Dim 2: (dim=4|id=445|\"α\")\n",
      "NDTensors.Dense{ComplexF64, Vector{ComplexF64}}\n",
      " 3×4\n",
      " 0.49490655590318317 + 0.0im   0.5101295572748251 + 0.0im  -0.4896609386040289 + 0.0im   0.5050420783697566 + 0.0im\n",
      " -0.5050420783697509 + 0.0im  0.48966093860404125 + 0.0im   0.5101295572748119 + 0.0im    0.494906555903189 + 0.0im\n",
      "  -0.505042078369763 + 0.0im  -0.4896609386040415 + 0.0im  -0.5101295572748379 + 0.0im  0.49490655590318916 + 0.0im\n"
     ]
    },
    {
     "data": {
      "text/plain": [
       "ITensor ord=2 (dim=3|id=158|\"χ\")' (dim=4|id=445|\"α\")\n",
       "NDTensors.Dense{ComplexF64, Vector{ComplexF64}}"
      ]
     },
     "metadata": {},
     "output_type": "display_data"
    }
   ],
   "source": [
    "function Restrict_EigenvecsUl(Ul::ITensor, χ::Int64,a1::Index,a2::Index)\n",
    "    if size(Ul)[1]<χ\n",
    "        return Ul\n",
    "    end\n",
    "\n",
    "    resUl=ITensor(a2',a1)\n",
    "\n",
    "    #並び替え\n",
    "    newUl=copy(Ul)\n",
    "    \n",
    "    for i in 1:size(Ul)[1]\n",
    "        cou=1\n",
    "        for j in idx\n",
    "            newUl[i,cou]=Ul[i,j]\n",
    "            cou+=1\n",
    "        end\n",
    "    end\n",
    "\n",
    "    for i in 1:χ\n",
    "        for j in 1:size(Ul)[2]\n",
    "            resUl[i,j]=newUl[i,j]\n",
    "        end\n",
    "    end\n",
    "\n",
    "    return resUl\n",
    "end\n",
    "resUl = Restrict_EigenvecsUl(Ul, χ_num,α,χ)\n",
    "@show Ul\n",
    "@show resUl"
   ]
  },
  {
   "cell_type": "code",
   "execution_count": 19,
   "id": "46de23bf",
   "metadata": {},
   "outputs": [
    {
     "data": {
      "text/plain": [
       "ITensor ord=2 (dim=4|id=445|\"α\") (dim=4|id=433|\"β\")\n",
       "NDTensors.Dense{ComplexF64, Vector{ComplexF64}}"
      ]
     },
     "metadata": {},
     "output_type": "display_data"
    }
   ],
   "source": [
    "Ul*D*U"
   ]
  },
  {
   "cell_type": "code",
   "execution_count": 44,
   "id": "426fa157",
   "metadata": {},
   "outputs": [
    {
     "data": {
      "text/plain": [
       "ITensor ord=2 (dim=3|id=158|\"χ\")' (dim=4|id=445|\"α\")\n",
       "NDTensors.Dense{ComplexF64, Vector{ComplexF64}}"
      ]
     },
     "metadata": {},
     "output_type": "display_data"
    }
   ],
   "source": [
    "resUl"
   ]
  },
  {
   "cell_type": "code",
   "execution_count": 21,
   "id": "2f85798a",
   "metadata": {},
   "outputs": [
    {
     "data": {
      "text/plain": [
       "ITensor ord=2 (dim=3|id=158|\"χ\")' (dim=3|id=158|\"χ\")\n",
       "NDTensors.Dense{ComplexF64, Vector{ComplexF64}}"
      ]
     },
     "metadata": {},
     "output_type": "display_data"
    }
   ],
   "source": [
    "resD"
   ]
  },
  {
   "cell_type": "code",
   "execution_count": 22,
   "id": "6a8e566c",
   "metadata": {},
   "outputs": [
    {
     "data": {
      "text/plain": [
       "(4, 3)"
      ]
     },
     "metadata": {},
     "output_type": "display_data"
    },
    {
     "data": {
      "text/plain": [
       "(3, 4)"
      ]
     },
     "metadata": {},
     "output_type": "display_data"
    },
    {
     "data": {
      "text/plain": [
       "(3, 3)"
      ]
     },
     "metadata": {},
     "output_type": "display_data"
    }
   ],
   "source": [
    "size(resU)|>display\n",
    "size(resUl)|>display\n",
    "size(resD)|>display"
   ]
  },
  {
   "cell_type": "code",
   "execution_count": 23,
   "id": "2490ae41",
   "metadata": {},
   "outputs": [
    {
     "data": {
      "text/plain": [
       "ITensor ord=2 (dim=4|id=445|\"α\") (dim=4|id=433|\"β\")\n",
       "NDTensors.Dense{ComplexF64, Vector{ComplexF64}}"
      ]
     },
     "metadata": {},
     "output_type": "display_data"
    }
   ],
   "source": [
    "A=resUl*resD*resU\n",
    "#テスト"
   ]
  },
  {
   "cell_type": "code",
   "execution_count": 24,
   "id": "fff8ffba",
   "metadata": {},
   "outputs": [
    {
     "data": {
      "text/plain": [
       "ITensor ord=2 (dim=4|id=445|\"α\") (dim=4|id=433|\"β\")\n",
       "NDTensors.Dense{Float64, Vector{Float64}}"
      ]
     },
     "metadata": {},
     "output_type": "display_data"
    }
   ],
   "source": [
    "C2"
   ]
  },
  {
   "cell_type": "code",
   "execution_count": 25,
   "id": "c0a4ac0c",
   "metadata": {},
   "outputs": [
    {
     "data": {
      "text/plain": [
       "(dim=4|id=445|\"α\")"
      ]
     },
     "metadata": {},
     "output_type": "display_data"
    }
   ],
   "source": [
    "α"
   ]
  },
  {
   "cell_type": "code",
   "execution_count": 26,
   "id": "6f89bc16",
   "metadata": {},
   "outputs": [
    {
     "data": {
      "text/plain": [
       "ITensor ord=3 (dim=2|id=885|\"α\") (dim=2|id=560|\"ξ\") (dim=2|id=610|\"l\")\n",
       "NDTensors.Dense{Float64, Vector{Float64}}"
      ]
     },
     "metadata": {},
     "output_type": "display_data"
    }
   ],
   "source": [
    "PR"
   ]
  },
  {
   "cell_type": "code",
   "execution_count": 27,
   "id": "3707cbb1",
   "metadata": {},
   "outputs": [
    {
     "data": {
      "text/plain": [
       "ITensor ord=5 (dim=2|id=885|\"α\") (dim=2|id=560|\"ξ\") (dim=2|id=547|\"i\") (dim=2|id=43|\"j\") (dim=2|id=201|\"k\")\n",
       "NDTensors.Dense{Float64, Vector{Float64}}"
      ]
     },
     "metadata": {},
     "output_type": "display_data"
    }
   ],
   "source": [
    "PR2=PR*W"
   ]
  },
  {
   "cell_type": "code",
   "execution_count": 28,
   "id": "f805604a",
   "metadata": {},
   "outputs": [
    {
     "ename": "ErrorException",
     "evalue": "Trying to contract a tensor with indices:\n\n((dim=4|id=610|\"CMB,Link\"), (dim=2|id=885|\"α\"), (dim=2|id=43|\"j\"), (dim=2|id=201|\"k\"))\n\nand labels:\n\n(2, 3, 4, -1)\n\nwith a combiner tensor with indices:\n\n((dim=8|id=989|\"CMB,Link\"), (dim=4|id=445|\"α\"), (dim=2|id=201|\"k\"))\n\nand labels:\n\n(5, 6, -1).\n\nThis is not a valid combiner contraction.\n\nIf you are combining, the combined index of the combiner should be the only one uncontracted.\n\nIf you are uncombining, the combined index of the combiner should be the only one contracted.\n\nBy convention, the combined index should be the index in position 1 of the combiner tensor.\n",
     "output_type": "error",
     "traceback": [
      "Trying to contract a tensor with indices:\n",
      "\n",
      "((dim=4|id=610|\"CMB,Link\"), (dim=2|id=885|\"α\"), (dim=2|id=43|\"j\"), (dim=2|id=201|\"k\"))\n",
      "\n",
      "and labels:\n",
      "\n",
      "(2, 3, 4, -1)\n",
      "\n",
      "with a combiner tensor with indices:\n",
      "\n",
      "((dim=8|id=989|\"CMB,Link\"), (dim=4|id=445|\"α\"), (dim=2|id=201|\"k\"))\n",
      "\n",
      "and labels:\n",
      "\n",
      "(5, 6, -1).\n",
      "\n",
      "This is not a valid combiner contraction.\n",
      "\n",
      "If you are combining, the combined index of the combiner should be the only one uncontracted.\n",
      "\n",
      "If you are uncombining, the combined index of the combiner should be the only one contracted.\n",
      "\n",
      "By convention, the combined index should be the index in position 1 of the combiner tensor.\n",
      "\n",
      "\n",
      "Stacktrace:\n",
      "  [1] error(s::String)\n",
      "    @ Base .\\error.jl:35\n",
      "  [2] invalid_combiner_contraction_error(tensor::NDTensors.DenseTensor{Float64, 4, NTuple{4, Index{Int64}}, NDTensors.Dense{Float64, Vector{Float64}}}, tensor_labels::NTuple{4, Int64}, combiner_tensor::NDTensors.Tensor{Number, 3, NDTensors.Combiner, Tuple{Index{Int64}, Index{Int64}, Index{Int64}}}, combiner_tensor_labels::Tuple{Int64, Int64, Int64})\n",
      "    @ NDTensors C:\\Users\\kakin\\.julia\\packages\\NDTensors\\Lb78J\\src\\combiner\\combiner.jl:133\n",
      "  [3] check_valid_combiner_contraction\n",
      "    @ C:\\Users\\kakin\\.julia\\packages\\NDTensors\\Lb78J\\src\\combiner\\combiner.jl:112 [inlined]\n",
      "  [4] is_combining\n",
      "    @ C:\\Users\\kakin\\.julia\\packages\\NDTensors\\Lb78J\\src\\combiner\\combiner.jl:90 [inlined]\n",
      "  [5] contract!!(output_tensor::NDTensors.DenseTensor{Float64, 5, NTuple{5, Index{Int64}}, NDTensors.Dense{Float64, Vector{Float64}}}, output_tensor_labels::NTuple{5, Int64}, combiner_tensor::NDTensors.Tensor{Number, 3, NDTensors.Combiner, Tuple{Index{Int64}, Index{Int64}, Index{Int64}}}, combiner_tensor_labels::Tuple{Int64, Int64, Int64}, tensor::NDTensors.DenseTensor{Float64, 4, NTuple{4, Index{Int64}}, NDTensors.Dense{Float64, Vector{Float64}}}, tensor_labels::NTuple{4, Int64})\n",
      "    @ NDTensors C:\\Users\\kakin\\.julia\\packages\\NDTensors\\Lb78J\\src\\combiner\\contract.jl:37\n",
      "  [6] contract!!\n",
      "    @ C:\\Users\\kakin\\.julia\\packages\\NDTensors\\Lb78J\\src\\combiner\\contract.jl:84 [inlined]\n",
      "  [7] contract(tensor1::NDTensors.DenseTensor{Float64, 4, NTuple{4, Index{Int64}}, NDTensors.Dense{Float64, Vector{Float64}}}, labelstensor1::NTuple{4, Int64}, tensor2::NDTensors.Tensor{Number, 3, NDTensors.Combiner, Tuple{Index{Int64}, Index{Int64}, Index{Int64}}}, labelstensor2::Tuple{Int64, Int64, Int64}, labelsoutput_tensor::NTuple{5, Int64})\n",
      "    @ NDTensors C:\\Users\\kakin\\.julia\\packages\\NDTensors\\Lb78J\\src\\tensoroperations\\generic_tensor_operations.jl:113\n",
      "  [8] contract(::Type{NDTensors.CanContract{NDTensors.DenseTensor{Float64, 4, NTuple{4, Index{Int64}}, NDTensors.Dense{Float64, Vector{Float64}}}, NDTensors.Tensor{Number, 3, NDTensors.Combiner, Tuple{Index{Int64}, Index{Int64}, Index{Int64}}}}}, tensor1::NDTensors.DenseTensor{Float64, 4, NTuple{4, Index{Int64}}, NDTensors.Dense{Float64, Vector{Float64}}}, labels_tensor1::NTuple{4, Int64}, tensor2::NDTensors.Tensor{Number, 3, NDTensors.Combiner, Tuple{Index{Int64}, Index{Int64}, Index{Int64}}}, labels_tensor2::Tuple{Int64, Int64, Int64})\n",
      "    @ NDTensors C:\\Users\\kakin\\.julia\\packages\\NDTensors\\Lb78J\\src\\tensoroperations\\generic_tensor_operations.jl:91\n",
      "  [9] contract\n",
      "    @ C:\\Users\\kakin\\.julia\\packages\\SimpleTraits\\l1ZsK\\src\\SimpleTraits.jl:331 [inlined]\n",
      " [10] _contract(A::NDTensors.DenseTensor{Float64, 4, NTuple{4, Index{Int64}}, NDTensors.Dense{Float64, Vector{Float64}}}, B::NDTensors.Tensor{Number, 3, NDTensors.Combiner, Tuple{Index{Int64}, Index{Int64}, Index{Int64}}})\n",
      "    @ ITensors C:\\Users\\kakin\\.julia\\packages\\ITensors\\elsyT\\src\\tensor_operations\\tensor_algebra.jl:3\n",
      " [11] _contract(A::ITensor, B::ITensor)\n",
      "    @ ITensors C:\\Users\\kakin\\.julia\\packages\\ITensors\\elsyT\\src\\tensor_operations\\tensor_algebra.jl:9\n",
      " [12] contract(A::ITensor, B::ITensor)\n",
      "    @ ITensors C:\\Users\\kakin\\.julia\\packages\\ITensors\\elsyT\\src\\tensor_operations\\tensor_algebra.jl:74\n",
      " [13] #214\n",
      "    @ C:\\Users\\kakin\\.julia\\packages\\ITensors\\elsyT\\src\\tensor_operations\\tensor_algebra.jl:123 [inlined]\n",
      " [14] BottomRF\n",
      "    @ .\\reduce.jl:86 [inlined]\n",
      " [15] afoldl\n",
      "    @ .\\operators.jl:555 [inlined]\n",
      " [16] _foldl_impl\n",
      "    @ .\\reduce.jl:68 [inlined]\n",
      " [17] foldl_impl\n",
      "    @ .\\reduce.jl:48 [inlined]\n",
      " [18] mapfoldl_impl\n",
      "    @ .\\reduce.jl:44 [inlined]\n",
      " [19] mapfoldl\n",
      "    @ .\\reduce.jl:175 [inlined]\n",
      " [20] foldl\n",
      "    @ .\\reduce.jl:198 [inlined]\n",
      " [21] #contract#213\n",
      "    @ C:\\Users\\kakin\\.julia\\packages\\ITensors\\elsyT\\src\\tensor_operations\\tensor_algebra.jl:123 [inlined]\n",
      " [22] contract\n",
      "    @ C:\\Users\\kakin\\.julia\\packages\\ITensors\\elsyT\\src\\tensor_operations\\tensor_algebra.jl:119 [inlined]\n",
      " [23] contract\n",
      "    @ C:\\Users\\kakin\\.julia\\packages\\ITensors\\elsyT\\src\\tensor_operations\\tensor_algebra.jl:148 [inlined]\n",
      " [24] *(::ITensor, ::ITensor, ::ITensor)\n",
      "    @ ITensors C:\\Users\\kakin\\.julia\\packages\\ITensors\\elsyT\\src\\tensor_operations\\tensor_algebra.jl:158\n",
      " [25] top-level scope\n",
      "    @ c:\\Users\\kakin\\home\\workspace\\tensor\\notebook\\jl_notebook_cell_df34fa98e69747e1a8f8a730347b8e2f_X34sZmlsZQ==.jl:4"
     ]
    }
   ],
   "source": [
    "αk = combiner(α, k)\n",
    "ξi = combiner(ξ, i)\n",
    "\n",
    "PR2_ext = ξi * PR2 * αk\n",
    "\n",
    "#=\n",
    "α = Index(dim(uniqueinds(ξi)[1]), \"α\")\n",
    "ρ = Index(dim(uniqueinds(αk)[1]), \"ρ\")\n",
    "replaceinds!(PR2_ext, uniqueinds(ξi)[1] => α)\n",
    "replaceinds!(PR2_ext, uniqueinds(αk)[1] => ρ)\n",
    "\n",
    "PR2=PR2_ext\n",
    "=#\n",
    "#=\n",
    "ξ = Index(dim(uniqueinds(ξi)[1]), \"ξ\")\n",
    "α = Index(dim(uniqueinds(αk)[1]), \"α\")\n",
    "replaceinds!(PR2_ext, uniqueinds(ξi)[1] => ξ)\n",
    "replaceinds!(PR2_ext, uniqueinds(βj)[1] => α)\n",
    "\n",
    "PR2=PR2_ext\n",
    "=#"
   ]
  },
  {
   "cell_type": "code",
   "execution_count": 29,
   "id": "794f4d02",
   "metadata": {},
   "outputs": [],
   "source": [
    "#=using ITensors\n",
    "\n",
    "# 対角化（例: A is ITensor with indices α, β）\n",
    "D, U = eigen(C2, α, β)\n",
    "\n",
    "dr = commonind(D, U)\n",
    "dl = uniqueind(D, U)\n",
    "\n",
    "χ = 2\n",
    "\n",
    "# ✅ 新しい次元χのIndexを新規生成（タグは同じでもOK）\n",
    "drχ = Index(χ, \"Link,eigen\")\n",
    "dlχ = prime(drχ)\n",
    "\n",
    "# ✅ Uのインデックス置き換え（単一の置換ならこれで十分）\n",
    "Uχ = replaceind(U, dr => drχ)\n",
    "\n",
    "# ✅ Dχ の構築\n",
    "Dχ = ITensor(dlχ, drχ)\n",
    "for n in 1:χ\n",
    "    Dχ[dlχ => n, drχ => n] = D[dl => n, dr => n]\n",
    "end\n",
    "\n",
    "# ✅ Ulχ の構成（ここも replaceind で十分）\n",
    "Ulχ = replaceind(Uχ, β => α)\n",
    "Ulχ = replaceind(Ulχ, drχ => dlχ)\n",
    "\n",
    "# ✅ 再構成して誤差確認\n",
    "Aχ = Ulχ * Dχ\n",
    "println(\"圧縮誤差: \", norm(C2 - Aχ))\n",
    "=#"
   ]
  },
  {
   "cell_type": "code",
   "execution_count": 30,
   "id": "28a57b75",
   "metadata": {},
   "outputs": [
    {
     "data": {
      "text/plain": [
       "154.8660575743989"
      ]
     },
     "metadata": {},
     "output_type": "display_data"
    }
   ],
   "source": [
    "D\n",
    "norm(Ul*D*U-C2)"
   ]
  },
  {
   "cell_type": "code",
   "execution_count": 31,
   "id": "5279a3e4",
   "metadata": {},
   "outputs": [
    {
     "name": "stdout",
     "output_type": "stream",
     "text": [
      " 253.49616979434984  249.95712926003972  304.66466954142385  312.7072764780771\n",
      " 249.95712926003972  244.49265776061023  299.22179615334585  304.66466954142385\n",
      " 304.6646695414238   299.22179615334585  244.4926577606102   249.95712926003972\n",
      " 312.7072764780772   304.66466954142385  249.95712926003972  253.49616979434984"
     ]
    }
   ],
   "source": [
    "A=Array(C2,α,β)\n",
    "Base.print_matrix(stdout,A)"
   ]
  }
 ],
 "metadata": {
  "kernelspec": {
   "display_name": "Julia 1.11.4",
   "language": "julia",
   "name": "julia-1.11"
  },
  "language_info": {
   "file_extension": ".jl",
   "mimetype": "application/julia",
   "name": "julia",
   "version": "1.11.4"
  }
 },
 "nbformat": 4,
 "nbformat_minor": 5
}
