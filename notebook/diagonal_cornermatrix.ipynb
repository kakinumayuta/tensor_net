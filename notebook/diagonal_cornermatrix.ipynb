{
 "cells": [
  {
   "cell_type": "code",
   "execution_count": 1,
   "id": "382ebdf7",
   "metadata": {},
   "outputs": [
    {
     "name": "stderr",
     "output_type": "stream",
     "text": [
      "\u001b[32m\u001b[1m  Activating\u001b[22m\u001b[39m project at `c:\\Users\\kakin\\home\\workspace\\tensor`\n"
     ]
    }
   ],
   "source": [
    "import Pkg\n",
    "Pkg.activate(\"../../tensor\")\n",
    "import tensor as ten\n",
    "using ITensors\n",
    "import LinearAlgebra as LA"
   ]
  },
  {
   "cell_type": "code",
   "execution_count": 2,
   "id": "fa9b014a",
   "metadata": {},
   "outputs": [
    {
     "data": {
      "text/plain": [
       "-0.1"
      ]
     },
     "metadata": {},
     "output_type": "display_data"
    }
   ],
   "source": [
    "#Index\n",
    "#大きな足\n",
    "α = Index(2, \"α\")\n",
    "ξ = Index(2, \"ξ\")\n",
    "β = Index(2, \"β\")\n",
    "η = Index(2, \"η\")\n",
    "\n",
    "#小さな足\n",
    "i = Index(2, \"i\")\n",
    "j = Index(2, \"j\")\n",
    "k = Index(2, \"k\")\n",
    "l = Index(2, \"l\")\n",
    "\n",
    "#つぶす足\n",
    "c1 = Index(2 , \"c1\")\n",
    "c2 = Index(2 , \"c2\")\n",
    "\n",
    "#定数K\n",
    "K_const=-0.1"
   ]
  },
  {
   "cell_type": "code",
   "execution_count": 3,
   "id": "1029deba",
   "metadata": {},
   "outputs": [
    {
     "data": {
      "text/plain": [
       "ITensor ord=3 (dim=2|id=181|\"β\") (dim=2|id=652|\"η\") (dim=2|id=427|\"k\")\n",
       "NDTensors.Dense{Float64, Vector{Float64}}"
      ]
     },
     "metadata": {},
     "output_type": "display_data"
    }
   ],
   "source": [
    "#ここがおかしい\n",
    "#4脚テンソルの定義\n",
    "W = ten.four_leg_tensor_def(i, j, k, l,K_const)\n",
    "#2脚テンソルの定義\n",
    "C = ten.two_leg_tensor_def(α, β, c1, c2, K_const)\n",
    "#3脚テンソルの定義\n",
    "PR = ten.three_leg_tensor_def(α, ξ, l, c1, K_const)\n",
    "#3脚テンソルの定義\n",
    "PC = ten.three_leg_tensor_def(β, η , k, c1, K_const)"
   ]
  },
  {
   "cell_type": "code",
   "execution_count": 4,
   "id": "62181f7c",
   "metadata": {},
   "outputs": [
    {
     "data": {
      "text/plain": [
       "ITensor ord=2 (dim=4|id=259|\"α\") (dim=4|id=240|\"β\")\n",
       "NDTensors.Dense{Float64, Vector{Float64}}"
      ]
     },
     "metadata": {},
     "output_type": "display_data"
    }
   ],
   "source": [
    "#3脚テンソル(横)の拡大\n",
    "PR2,ξ,α,ξi=ten.Expand_PR(PR,W,α,k,ξ,i)\n",
    "#3脚テンソル(縦)の拡大\n",
    "PC2,η,β,ηj=ten.Expand_PC(PC,W,β,l,η,j)\n",
    "#角転送行列の拡大\n",
    "C2=ten.Expand_C(PR,C,PC,W,ξi,ηj,α,β)"
   ]
  },
  {
   "cell_type": "code",
   "execution_count": 5,
   "id": "cf7a47ae",
   "metadata": {},
   "outputs": [
    {
     "name": "stdout",
     "output_type": "stream",
     "text": [
      "norm(C2 * U - Ul * D) = 1.1791567914286052e-12\n",
      "一致する？ true\n"
     ]
    }
   ],
   "source": [
    "function Diagonal_C_matrix(C2::ITensor,α::Index{Int64},β::Index{Int64})\n",
    "    # 固有値分解\n",
    "    D, U = eigen(C2, α, β)\n",
    "\n",
    "    # インデックスの取り出し\n",
    "    dl = uniqueind(D, U)\n",
    "    dr = commonind(D, U)\n",
    "\n",
    "    # 正しい方法でUlを作成（置き換えは個別に！）\n",
    "    Ul = replaceinds(U, (β => α, dr => dl))\n",
    "\n",
    "    return D,U,Ul\n",
    "end\n",
    "\n",
    "D,U,Ul=Diagonal_C_matrix(C2,α,β)\n",
    "\n",
    "# 誤差チェック\n",
    "diff = norm(C2 * U - Ul * D)\n",
    "println(\"norm(C2 * U - Ul * D) = \", diff)\n",
    "println(\"一致する？ \", diff < 1e-11)\n",
    "\n"
   ]
  },
  {
   "cell_type": "code",
   "execution_count": 6,
   "id": "364ccdf5",
   "metadata": {},
   "outputs": [
    {
     "name": "stdout",
     "output_type": "stream",
     "text": [
      "D = ITensor ord=2\n",
      "Dim 1: (dim=4|id=611|\"Link,eigen\")'\n",
      "Dim 2: (dim=4|id=611|\"Link,eigen\")\n",
      "NDTensors.Diag{ComplexF64, Vector{ComplexF64}}\n",
      " 4×4\n",
      " -111.7235422814734 + 0.0im                  0.0 + 0.0im                  0.0 + 0.0im                 0.0 + 0.0im\n",
      "                0.0 + 0.0im  -2.2167027949896285 + 0.0im                  0.0 + 0.0im                 0.0 + 0.0im\n",
      "                0.0 + 0.0im                  0.0 + 0.0im  0.22317659368484247 + 0.0im                 0.0 + 0.0im\n",
      "                0.0 + 0.0im                  0.0 + 0.0im                  0.0 + 0.0im  1109.6947235926991 + 0.0im\n"
     ]
    },
    {
     "data": {
      "text/plain": [
       "ITensor ord=2 (dim=4|id=611|\"Link,eigen\")' (dim=4|id=611|\"Link,eigen\")\n",
       "NDTensors.Diag{ComplexF64, Vector{ComplexF64}}"
      ]
     },
     "metadata": {},
     "output_type": "display_data"
    }
   ],
   "source": [
    "@show D"
   ]
  },
  {
   "cell_type": "code",
   "execution_count": 7,
   "id": "1029e26e",
   "metadata": {},
   "outputs": [
    {
     "data": {
      "text/plain": [
       "Sort_Diagonal (generic function with 1 method)"
      ]
     },
     "metadata": {},
     "output_type": "display_data"
    }
   ],
   "source": [
    "function Sort_Diagonal(D::ITensor)\n",
    "    Dnew=copy(D)\n",
    "\n",
    "    #対角要素の並び替え\n",
    "    for i in 1:size(D)[1]\n",
    "        for j in (i+1):size(D)[2]\n",
    "            if abs(real(Dnew[i,i])) < abs(real(Dnew[j,j]))\n",
    "                tmp=Dnew[i,i]\n",
    "                Dnew[i,i]=Dnew[j,j]\n",
    "                Dnew[j,j]=tmp\n",
    "            end\n",
    "        end\n",
    "    end\n",
    "\n",
    "    \n",
    "    return Dnew\n",
    "end"
   ]
  },
  {
   "cell_type": "code",
   "execution_count": 8,
   "id": "d29fbdd8",
   "metadata": {},
   "outputs": [
    {
     "data": {
      "text/plain": [
       "Sort_idx (generic function with 1 method)"
      ]
     },
     "metadata": {},
     "output_type": "display_data"
    }
   ],
   "source": [
    "function Sort_idx(D::ITensor,i::Index{Int64},j::Index{Int64})\n",
    "    # 対角要素を取り出す\n",
    "    diag_elements=Float64[]\n",
    "    for i in 1:size(D)[1]\n",
    "        push!(diag_elements,D[i,i])\n",
    "    end\n",
    "    \n",
    "    # 絶対値でソートしたインデックスを取得\n",
    "    sorted_indices = sortperm(abs.(diag_elements),rev=true)\n",
    "    \n",
    "    return sorted_indices\n",
    "end"
   ]
  },
  {
   "cell_type": "code",
   "execution_count": 9,
   "id": "964e2356",
   "metadata": {},
   "outputs": [
    {
     "data": {
      "text/plain": [
       "(dim=2|id=508|\"χ\")"
      ]
     },
     "metadata": {},
     "output_type": "display_data"
    }
   ],
   "source": [
    "χ_num=2\n",
    "χ=Index(χ_num,\"χ\")"
   ]
  },
  {
   "cell_type": "code",
   "execution_count": 10,
   "id": "23bcfada",
   "metadata": {},
   "outputs": [
    {
     "name": "stdout",
     "output_type": "stream",
     "text": [
      "resD = ITensor ord=2\n",
      "Dim 1: (dim=2|id=508|\"χ\")'\n",
      "Dim 2: (dim=2|id=508|\"χ\")\n",
      "NDTensors.Dense{ComplexF64, Vector{ComplexF64}}\n",
      " 2×2\n",
      " 1109.6947235926991 + 0.0im                 0.0 + 0.0im\n",
      "                0.0 + 0.0im  -111.7235422814734 + 0.0im\n",
      "idx = [4, 1, 2, 3]\n"
     ]
    },
    {
     "data": {
      "text/plain": [
       "4-element Vector{Int64}:\n",
       " 4\n",
       " 1\n",
       " 2\n",
       " 3"
      ]
     },
     "metadata": {},
     "output_type": "display_data"
    }
   ],
   "source": [
    "#固有値をソートし並べ替え、制限した後の対角行列を返す\n",
    "function Restrict_Diagonal(D::ITensor, χ::Int64,a1::Index{Int64},a2::Index{Int64})\n",
    "    sortedD=Sort_Diagonal(D)\n",
    "    tmp1=Index(size(D)[1],\"t1\")\n",
    "    tmp2=Index(size(D)[2],\"t2\")\n",
    "    idx=Sort_idx(D::ITensor,tmp1::Index{Int64},tmp2::Index{Int64})\n",
    "\n",
    "    #制限の必要がなければ返す\n",
    "    if size(D)[1]<χ\n",
    "        return sortedD ,idx\n",
    "    end\n",
    "\n",
    "    resD=ITensor(a1',a2)\n",
    "\n",
    "    for i in 1:χ\n",
    "        resD[i,i]=sortedD[i,i]\n",
    "    end\n",
    "\n",
    "    return resD,idx\n",
    "end\n",
    "resD,idx = Restrict_Diagonal(D, χ_num,χ,χ)\n",
    "@show resD\n",
    "@show idx\n"
   ]
  },
  {
   "cell_type": "code",
   "execution_count": 11,
   "id": "b240ad4a",
   "metadata": {},
   "outputs": [
    {
     "name": "stdout",
     "output_type": "stream",
     "text": [
      "U = ITensor ord=2\n",
      "Dim 1: (dim=4|id=240|\"β\")\n",
      "Dim 2: (dim=4|id=611|\"Link,eigen\")\n",
      "NDTensors.Dense{ComplexF64, Vector{ComplexF64}}\n",
      " 4×4\n",
      "  0.5101295572748251 + 0.0im  -0.4896609386040289 + 0.0im  0.49490655590318317 + 0.0im   0.5050420783697566 + 0.0im\n",
      " 0.48966093860404125 + 0.0im   0.5101295572748119 + 0.0im  -0.5050420783697509 + 0.0im    0.494906555903189 + 0.0im\n",
      " -0.4896609386040415 + 0.0im  -0.5101295572748379 + 0.0im   -0.505042078369763 + 0.0im  0.49490655590318916 + 0.0im\n",
      " -0.5101295572748253 + 0.0im   0.4896609386040544 + 0.0im  0.49490655590319454 + 0.0im    0.505042078369757 + 0.0im\n",
      "resU = ITensor ord=2\n",
      "Dim 1: (dim=4|id=240|\"β\")\n",
      "Dim 2: (dim=2|id=508|\"χ\")\n",
      "NDTensors.Dense{ComplexF64, Vector{ComplexF64}}\n",
      " 4×2\n",
      "  0.5050420783697566 + 0.0im   0.5101295572748251 + 0.0im\n",
      "   0.494906555903189 + 0.0im  0.48966093860404125 + 0.0im\n",
      " 0.49490655590318916 + 0.0im  -0.4896609386040415 + 0.0im\n",
      "   0.505042078369757 + 0.0im  -0.5101295572748253 + 0.0im\n"
     ]
    },
    {
     "data": {
      "text/plain": [
       "ITensor ord=2 (dim=4|id=240|\"β\") (dim=2|id=508|\"χ\")\n",
       "NDTensors.Dense{ComplexF64, Vector{ComplexF64}}"
      ]
     },
     "metadata": {},
     "output_type": "display_data"
    }
   ],
   "source": [
    "function Restrict_EigenvecsU(U::ITensor, χ::Int64,a1::Index{Int64},a2::Index{Int64},idx::Vector{Int64})\n",
    "    #並び替え\n",
    "    newU=copy(U)\n",
    "    \n",
    "    for i in 1:size(U)[1]\n",
    "        cou=1\n",
    "        for j in idx\n",
    "            newU[i,cou]=U[i,j]\n",
    "            cou+=1\n",
    "        end\n",
    "    end\n",
    "    \n",
    "    #制限の必要がなければ返す\n",
    "    if size(U)[1]<χ\n",
    "        return newU\n",
    "    end\n",
    "\n",
    "    #大きさを制限\n",
    "    resU=ITensor(a1,a2)\n",
    "    for i in 1:size(U)[1]\n",
    "        for j in 1:χ\n",
    "            resU[i,j]=newU[i,j]\n",
    "        end\n",
    "    end\n",
    "\n",
    "    return resU\n",
    "end\n",
    "resU = Restrict_EigenvecsU(U, χ_num,β,χ,idx)\n",
    "@show U\n",
    "@show resU"
   ]
  },
  {
   "cell_type": "code",
   "execution_count": 12,
   "id": "65b28f01",
   "metadata": {},
   "outputs": [
    {
     "name": "stdout",
     "output_type": "stream",
     "text": [
      "Ul = ITensor ord=2\n",
      "Dim 1: (dim=4|id=259|\"α\")\n",
      "Dim 2: (dim=4|id=611|\"Link,eigen\")'\n",
      "NDTensors.Dense{ComplexF64, Vector{ComplexF64}}\n",
      " 4×4\n",
      "  0.5101295572748251 + 0.0im  -0.4896609386040289 + 0.0im  0.49490655590318317 + 0.0im   0.5050420783697566 + 0.0im\n",
      " 0.48966093860404125 + 0.0im   0.5101295572748119 + 0.0im  -0.5050420783697509 + 0.0im    0.494906555903189 + 0.0im\n",
      " -0.4896609386040415 + 0.0im  -0.5101295572748379 + 0.0im   -0.505042078369763 + 0.0im  0.49490655590318916 + 0.0im\n",
      " -0.5101295572748253 + 0.0im   0.4896609386040544 + 0.0im  0.49490655590319454 + 0.0im    0.505042078369757 + 0.0im\n",
      "resUl = ITensor ord=2\n",
      "Dim 1: (dim=2|id=508|\"χ\")'\n",
      "Dim 2: (dim=4|id=259|\"α\")\n",
      "NDTensors.Dense{ComplexF64, Vector{ComplexF64}}\n",
      " 2×4\n",
      " 0.5050420783697566 + 0.0im   0.5101295572748251 + 0.0im  -0.4896609386040289 + 0.0im  0.49490655590318317 + 0.0im\n",
      "  0.494906555903189 + 0.0im  0.48966093860404125 + 0.0im   0.5101295572748119 + 0.0im  -0.5050420783697509 + 0.0im\n"
     ]
    },
    {
     "data": {
      "text/plain": [
       "ITensor ord=2 (dim=2|id=508|\"χ\")' (dim=4|id=259|\"α\")\n",
       "NDTensors.Dense{ComplexF64, Vector{ComplexF64}}"
      ]
     },
     "metadata": {},
     "output_type": "display_data"
    }
   ],
   "source": [
    "function Restrict_EigenvecsUl(Ul::ITensor, χ::Int64,a1::Index,a2::Index)\n",
    "    #並び替え\n",
    "    newUl=copy(Ul)\n",
    "    \n",
    "    for i in 1:size(Ul)[1]\n",
    "        cou=1\n",
    "        for j in idx\n",
    "            newUl[i,cou]=Ul[i,j]\n",
    "            cou+=1\n",
    "        end\n",
    "    end\n",
    "\n",
    "    #制限の必要がなければ返す\n",
    "    if size(Ul)[1]<χ\n",
    "        return Ul\n",
    "    end\n",
    "\n",
    "    #大きさを制限\n",
    "    resUl=ITensor(a2',a1)\n",
    "    for i in 1:χ\n",
    "        for j in 1:size(Ul)[2]\n",
    "            resUl[i,j]=newUl[i,j]\n",
    "        end\n",
    "    end\n",
    "\n",
    "    return resUl\n",
    "end\n",
    "resUl = Restrict_EigenvecsUl(Ul, χ_num,α,χ)\n",
    "@show Ul\n",
    "@show resUl"
   ]
  },
  {
   "cell_type": "code",
   "execution_count": 17,
   "id": "00033e4d",
   "metadata": {},
   "outputs": [
    {
     "data": {
      "text/plain": [
       "ITensor ord=3 (dim=4|id=266|\"ξ\") (dim=2|id=722|\"j\") (dim=4|id=259|\"α\")\n",
       "NDTensors.Dense{Float64, Vector{Float64}}"
      ]
     },
     "metadata": {},
     "output_type": "display_data"
    },
    {
     "data": {
      "text/plain": [
       "ITensor ord=2 (dim=2|id=508|\"χ\")' (dim=4|id=259|\"α\")\n",
       "NDTensors.Dense{ComplexF64, Vector{ComplexF64}}"
      ]
     },
     "metadata": {},
     "output_type": "display_data"
    },
    {
     "data": {
      "text/plain": [
       "ITensor ord=3 (dim=4|id=266|\"ξ\") (dim=2|id=722|\"j\") (dim=2|id=508|\"χ\")'\n",
       "NDTensors.Dense{ComplexF64, Vector{ComplexF64}}"
      ]
     },
     "metadata": {},
     "output_type": "display_data"
    }
   ],
   "source": [
    "PR2|>display\n",
    "resUl|>display\n",
    "\n",
    "resPR=PR2*resUl"
   ]
  },
  {
   "cell_type": "code",
   "execution_count": 18,
   "id": "74293cb7",
   "metadata": {},
   "outputs": [
    {
     "data": {
      "text/plain": [
       "ITensor ord=3 (dim=4|id=882|\"η\") (dim=2|id=401|\"i\") (dim=4|id=240|\"β\")\n",
       "NDTensors.Dense{Float64, Vector{Float64}}"
      ]
     },
     "metadata": {},
     "output_type": "display_data"
    },
    {
     "data": {
      "text/plain": [
       "ITensor ord=2 (dim=4|id=240|\"β\") (dim=2|id=508|\"χ\")\n",
       "NDTensors.Dense{ComplexF64, Vector{ComplexF64}}"
      ]
     },
     "metadata": {},
     "output_type": "display_data"
    },
    {
     "data": {
      "text/plain": [
       "ITensor ord=3 (dim=4|id=882|\"η\") (dim=2|id=401|\"i\") (dim=2|id=508|\"χ\")\n",
       "NDTensors.Dense{ComplexF64, Vector{ComplexF64}}"
      ]
     },
     "metadata": {},
     "output_type": "display_data"
    }
   ],
   "source": [
    "PC2|>display\n",
    "resU|>display\n",
    "\n",
    "resPC=PC2*resU"
   ]
  },
  {
   "cell_type": "code",
   "execution_count": 21,
   "id": "98e8a6bf",
   "metadata": {},
   "outputs": [
    {
     "data": {
      "text/plain": [
       "ITensor ord=4 (dim=4|id=882|\"η\") (dim=2|id=401|\"i\") (dim=4|id=266|\"ξ\") (dim=2|id=722|\"j\")\n",
       "NDTensors.Dense{ComplexF64, Vector{ComplexF64}}"
      ]
     },
     "metadata": {},
     "output_type": "display_data"
    }
   ],
   "source": [
    "resPC*resD*resPR"
   ]
  },
  {
   "cell_type": "code",
   "execution_count": 15,
   "id": "e611a02e",
   "metadata": {},
   "outputs": [
    {
     "data": {
      "text/plain": [
       "Restrict_PR2 (generic function with 1 method)"
      ]
     },
     "metadata": {},
     "output_type": "display_data"
    }
   ],
   "source": [
    "function Restrict_PR2(PR2::ITensor,α::Index{Int64},)\n",
    "    \n",
    "end\n"
   ]
  }
 ],
 "metadata": {
  "kernelspec": {
   "display_name": "Julia 1.11.4",
   "language": "julia",
   "name": "julia-1.11"
  },
  "language_info": {
   "file_extension": ".jl",
   "mimetype": "application/julia",
   "name": "julia",
   "version": "1.11.4"
  }
 },
 "nbformat": 4,
 "nbformat_minor": 5
}
